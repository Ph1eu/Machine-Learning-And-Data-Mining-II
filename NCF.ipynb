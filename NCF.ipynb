{
  "nbformat": 4,
  "nbformat_minor": 0,
  "metadata": {
    "colab": {
      "provenance": []
    },
    "kernelspec": {
      "name": "python3",
      "display_name": "Python 3"
    },
    "language_info": {
      "name": "python"
    },
    "gpuClass": "standard",
    "accelerator": "GPU"
  },
  "cells": [
    {
      "cell_type": "code",
      "execution_count": 42,
      "metadata": {
        "id": "JFkZ_2IugNHD"
      },
      "outputs": [],
      "source": [
        "!pip install -q tensorflow"
      ]
    },
    {
      "cell_type": "code",
      "source": [
        "# Import necessary libraries\n",
        "import numpy as np\n",
        "import pandas as pd\n",
        "import tensorflow as tf\n",
        "from tensorflow.keras.layers import Input, Embedding, Flatten, Concatenate, Dense, Dropout\n",
        "from tensorflow.keras.models import Model\n",
        "from tensorflow.keras.optimizers import Adam\n",
        "from tensorflow.keras.utils import to_categorical"
      ],
      "metadata": {
        "id": "9I5WIy0EggVY"
      },
      "execution_count": 2,
      "outputs": []
    },
    {
      "cell_type": "code",
      "source": [
        "# Load and preprocess data\n",
        "train_data = pd.read_csv('neumf_train_data.csv')\n",
        "train_data['verified_purchase'] = np.where(train_data['verified_purchase'] == 'Y', 1, 0)\n",
        "\n",
        "test_data = pd.read_csv('neumf_test_data.csv')\n",
        "test_data['verified_purchase'] = np.where(test_data['verified_purchase'] == 'Y', 1, 0)\n",
        "\n",
        "num_users = len(train_data.customer_id.unique()) + len(test_data.customer_id.unique())\n",
        "num_items = len(train_data.product_id.unique()) + len(test_data.product_id.unique())\n",
        "\n",
        "# Convert to one hot encoded vector\n",
        "train_users = to_categorical(train_data['customer_id'], num_classes=num_users)\n",
        "train_items = to_categorical(train_data['product_id'], num_classes=num_items)\n",
        "test_users = to_categorical(test_data['customer_id'], num_classes=num_users)\n",
        "test_items = to_categorical(test_data['product_id'], num_classes=num_items)"
      ],
      "metadata": {
        "id": "k1tGscZiglUR"
      },
      "execution_count": 3,
      "outputs": []
    },
    {
      "cell_type": "code",
      "source": [
        "test_items"
      ],
      "metadata": {
        "colab": {
          "base_uri": "https://localhost:8080/"
        },
        "id": "KeO8ADK-f4pm",
        "outputId": "916cc251-20b1-4ea2-83a4-c3c9e792c2a7"
      },
      "execution_count": 18,
      "outputs": [
        {
          "output_type": "execute_result",
          "data": {
            "text/plain": [
              "array([[0., 0., 0., ..., 0., 0., 0.],\n",
              "       [0., 0., 0., ..., 0., 0., 0.],\n",
              "       [0., 0., 0., ..., 0., 0., 0.],\n",
              "       ...,\n",
              "       [0., 0., 0., ..., 0., 0., 0.],\n",
              "       [0., 0., 0., ..., 0., 0., 0.],\n",
              "       [0., 0., 0., ..., 0., 0., 0.]], dtype=float32)"
            ]
          },
          "metadata": {},
          "execution_count": 18
        }
      ]
    },
    {
      "cell_type": "code",
      "source": [
        "# Define NeuMF model architecture\n",
        "embedding_dim = 32\n",
        "num_layers = 3\n",
        "hidden_dim = 64\n",
        "\n",
        "#input layer\n",
        "user_input = Input(shape=(num_users,))\n",
        "user_embedding_mlp = Flatten()(Embedding(num_users, embedding_dim)(user_input))\n",
        "user_embedding_mf = Flatten()(Embedding(num_users,embedding_dim)(user_input))\n",
        "\n",
        "item_input = Input(shape=(num_items,))\n",
        "item_embedding_mlp = Flatten()(Embedding(num_items, embedding_dim)(item_input))\n",
        "item_embedding_mf = Flatten()(Embedding(num_items,embedding_dim)(item_input))\n",
        "\n",
        "mlp_layers = Concatenate()([user_embedding_mlp, item_embedding_mlp])\n",
        "for i in range(num_layers):\n",
        "    mlp_layers = Dense(hidden_dim, activation='relu')(mlp_layers)\n",
        "    mlp_layers = Dropout(0.5)(mlp_layers)\n",
        "\n",
        "mf_layers = tf.keras.layers.Multiply()([user_embedding_mf, item_embedding_mf])\n",
        "# mf_layers = Concatenate()([user_embedding_mf, item_embedding_mf])\n",
        "# mf_layers = Dense(hidden_dim, activation='relu')(mf_layers)\n",
        "\n",
        "rating_output = Concatenate()([mlp_layers, mf_layers])\n",
        "rating_output = Dense(1, activation='sigmoid')(rating_output)\n",
        "\n",
        "verified_purchase_output = Concatenate()([mlp_layers, mf_layers])\n",
        "verified_purchase_output = Dense(1, activation='sigmoid')(verified_purchase_output)"
      ],
      "metadata": {
        "id": "nNUwQDXFg9Fq",
        "colab": {
          "base_uri": "https://localhost:8080/",
          "height": 396
        },
        "outputId": "7f303999-58b6-4b46-e957-ca63f414e452"
      },
      "execution_count": 19,
      "outputs": [
        {
          "output_type": "error",
          "ename": "ValueError",
          "evalue": "ignored",
          "traceback": [
            "\u001b[0;31m---------------------------------------------------------------------------\u001b[0m",
            "\u001b[0;31mValueError\u001b[0m                                Traceback (most recent call last)",
            "\u001b[0;32m<ipython-input-19-34069a67f74b>\u001b[0m in \u001b[0;36m<module>\u001b[0;34m\u001b[0m\n\u001b[1;32m     18\u001b[0m     \u001b[0mmlp_layers\u001b[0m \u001b[0;34m=\u001b[0m \u001b[0mDropout\u001b[0m\u001b[0;34m(\u001b[0m\u001b[0;36m0.5\u001b[0m\u001b[0;34m)\u001b[0m\u001b[0;34m(\u001b[0m\u001b[0mmlp_layers\u001b[0m\u001b[0;34m)\u001b[0m\u001b[0;34m\u001b[0m\u001b[0;34m\u001b[0m\u001b[0m\n\u001b[1;32m     19\u001b[0m \u001b[0;34m\u001b[0m\u001b[0m\n\u001b[0;32m---> 20\u001b[0;31m \u001b[0mmf_layers\u001b[0m \u001b[0;34m=\u001b[0m \u001b[0mtf\u001b[0m\u001b[0;34m.\u001b[0m\u001b[0mkeras\u001b[0m\u001b[0;34m.\u001b[0m\u001b[0mlayers\u001b[0m\u001b[0;34m.\u001b[0m\u001b[0mMultiply\u001b[0m\u001b[0;34m(\u001b[0m\u001b[0;34m)\u001b[0m\u001b[0;34m(\u001b[0m\u001b[0;34m[\u001b[0m\u001b[0muser_embedding_mf\u001b[0m\u001b[0;34m,\u001b[0m \u001b[0mitem_embedding_mf\u001b[0m\u001b[0;34m]\u001b[0m\u001b[0;34m)\u001b[0m\u001b[0;34m\u001b[0m\u001b[0;34m\u001b[0m\u001b[0m\n\u001b[0m\u001b[1;32m     21\u001b[0m \u001b[0;31m# mf_layers = Concatenate()([user_embedding_mf, item_embedding_mf])\u001b[0m\u001b[0;34m\u001b[0m\u001b[0;34m\u001b[0m\u001b[0m\n\u001b[1;32m     22\u001b[0m \u001b[0;31m# mf_layers = Dense(hidden_dim, activation='relu')(mf_layers)\u001b[0m\u001b[0;34m\u001b[0m\u001b[0;34m\u001b[0m\u001b[0m\n",
            "\u001b[0;32m/usr/local/lib/python3.9/dist-packages/keras/utils/traceback_utils.py\u001b[0m in \u001b[0;36merror_handler\u001b[0;34m(*args, **kwargs)\u001b[0m\n\u001b[1;32m     68\u001b[0m             \u001b[0;31m# To get the full stack trace, call:\u001b[0m\u001b[0;34m\u001b[0m\u001b[0;34m\u001b[0m\u001b[0m\n\u001b[1;32m     69\u001b[0m             \u001b[0;31m# `tf.debugging.disable_traceback_filtering()`\u001b[0m\u001b[0;34m\u001b[0m\u001b[0;34m\u001b[0m\u001b[0m\n\u001b[0;32m---> 70\u001b[0;31m             \u001b[0;32mraise\u001b[0m \u001b[0me\u001b[0m\u001b[0;34m.\u001b[0m\u001b[0mwith_traceback\u001b[0m\u001b[0;34m(\u001b[0m\u001b[0mfiltered_tb\u001b[0m\u001b[0;34m)\u001b[0m \u001b[0;32mfrom\u001b[0m \u001b[0;32mNone\u001b[0m\u001b[0;34m\u001b[0m\u001b[0;34m\u001b[0m\u001b[0m\n\u001b[0m\u001b[1;32m     71\u001b[0m         \u001b[0;32mfinally\u001b[0m\u001b[0;34m:\u001b[0m\u001b[0;34m\u001b[0m\u001b[0;34m\u001b[0m\u001b[0m\n\u001b[1;32m     72\u001b[0m             \u001b[0;32mdel\u001b[0m \u001b[0mfiltered_tb\u001b[0m\u001b[0;34m\u001b[0m\u001b[0;34m\u001b[0m\u001b[0m\n",
            "\u001b[0;32m/usr/local/lib/python3.9/dist-packages/keras/layers/merging/base_merge.py\u001b[0m in \u001b[0;36m_compute_elemwise_op_output_shape\u001b[0;34m(self, shape1, shape2)\u001b[0m\n\u001b[1;32m     72\u001b[0m             \u001b[0;32melse\u001b[0m\u001b[0;34m:\u001b[0m\u001b[0;34m\u001b[0m\u001b[0;34m\u001b[0m\u001b[0m\n\u001b[1;32m     73\u001b[0m                 \u001b[0;32mif\u001b[0m \u001b[0mi\u001b[0m \u001b[0;34m!=\u001b[0m \u001b[0mj\u001b[0m\u001b[0;34m:\u001b[0m\u001b[0;34m\u001b[0m\u001b[0;34m\u001b[0m\u001b[0m\n\u001b[0;32m---> 74\u001b[0;31m                     raise ValueError(\n\u001b[0m\u001b[1;32m     75\u001b[0m                         \u001b[0;34m\"Inputs have incompatible shapes. \"\u001b[0m\u001b[0;34m\u001b[0m\u001b[0;34m\u001b[0m\u001b[0m\n\u001b[1;32m     76\u001b[0m                         \u001b[0;34mf\"Received shapes {shape1} and {shape2}\"\u001b[0m\u001b[0;34m\u001b[0m\u001b[0;34m\u001b[0m\u001b[0m\n",
            "\u001b[0;31mValueError\u001b[0m: Inputs have incompatible shapes. Received shapes (259840,) and (237664,)"
          ]
        }
      ]
    },
    {
      "cell_type": "code",
      "source": [
        "# Define NeuMF model\n",
        "neumf_model = Model(inputs=[user_input, item_input], outputs=[rating_output, verified_purchase_output])\n",
        "# neumf_model.load_weights('neumf_model_weights.h5')\n",
        "\n",
        "neumf_model.compile(loss='binary_crossentropy', optimizer=Adam(lr=0.001), metrics=['accuracy']) "
      ],
      "metadata": {
        "colab": {
          "base_uri": "https://localhost:8080/"
        },
        "id": "Hj0iGZJHhBY6",
        "outputId": "d6477e47-3356-4ff2-bbdc-159f003ffd68"
      },
      "execution_count": 6,
      "outputs": [
        {
          "output_type": "stream",
          "name": "stderr",
          "text": [
            "WARNING:absl:`lr` is deprecated, please use `learning_rate` instead, or use the legacy optimizer, e.g.,tf.keras.optimizers.legacy.Adam.\n"
          ]
        }
      ]
    },
    {
      "cell_type": "code",
      "source": [
        "# Train NeuMF model\n",
        "neumf_model.fit(x=[train_users, train_items],\n",
        "                y=[train_data['star_rating'], train_data['verified_purchase']],\n",
        "                batch_size=64,\n",
        "                epochs=5,\n",
        "                validation_data=([test_users, test_items],\n",
        "                                 [test_data['star_rating'], test_data['verified_purchase']]))\n",
        "\n",
        "# neumf_model.save_weights('neumf_model_weights.h5')"
      ],
      "metadata": {
        "colab": {
          "base_uri": "https://localhost:8080/"
        },
        "id": "7OaOjCanhLGl",
        "outputId": "01e7e9b3-16da-49e3-9120-09e3c5bbfbf6"
      },
      "execution_count": 11,
      "outputs": [
        {
          "output_type": "stream",
          "name": "stdout",
          "text": [
            "Epoch 1/5\n",
            "510/510 [==============================] - 22s 43ms/step - loss: 3.1016 - tf.math.multiply_loss: 3.1016 - dense_5_loss: 1.8594e-15 - tf.math.multiply_accuracy: 0.0393 - dense_5_accuracy: 1.0000 - val_loss: -42.6358 - val_tf.math.multiply_loss: -42.6358 - val_dense_5_loss: 0.0000e+00 - val_tf.math.multiply_accuracy: 0.1884 - val_dense_5_accuracy: 1.0000\n",
            "Epoch 2/5\n",
            "510/510 [==============================] - 22s 44ms/step - loss: 3.1012 - tf.math.multiply_loss: 3.1012 - dense_5_loss: 2.9057e-18 - tf.math.multiply_accuracy: 0.0394 - dense_5_accuracy: 1.0000 - val_loss: -42.6358 - val_tf.math.multiply_loss: -42.6358 - val_dense_5_loss: 0.0000e+00 - val_tf.math.multiply_accuracy: 0.1884 - val_dense_5_accuracy: 1.0000\n",
            "Epoch 3/5\n",
            "510/510 [==============================] - 22s 43ms/step - loss: 3.1092 - tf.math.multiply_loss: 3.1092 - dense_5_loss: 1.0022e-17 - tf.math.multiply_accuracy: 0.0394 - dense_5_accuracy: 1.0000 - val_loss: -42.6358 - val_tf.math.multiply_loss: -42.6358 - val_dense_5_loss: 0.0000e+00 - val_tf.math.multiply_accuracy: 0.1884 - val_dense_5_accuracy: 1.0000\n",
            "Epoch 4/5\n",
            "510/510 [==============================] - 22s 43ms/step - loss: 3.0969 - tf.math.multiply_loss: 3.0969 - dense_5_loss: 1.2191e-13 - tf.math.multiply_accuracy: 0.0394 - dense_5_accuracy: 1.0000 - val_loss: -42.6358 - val_tf.math.multiply_loss: -42.6358 - val_dense_5_loss: 0.0000e+00 - val_tf.math.multiply_accuracy: 0.1884 - val_dense_5_accuracy: 1.0000\n",
            "Epoch 5/5\n",
            "510/510 [==============================] - 22s 43ms/step - loss: 3.1012 - tf.math.multiply_loss: 3.1012 - dense_5_loss: 5.7644e-15 - tf.math.multiply_accuracy: 0.0394 - dense_5_accuracy: 1.0000 - val_loss: -42.6358 - val_tf.math.multiply_loss: -42.6358 - val_dense_5_loss: 0.0000e+00 - val_tf.math.multiply_accuracy: 0.1884 - val_dense_5_accuracy: 1.0000\n"
          ]
        }
      ]
    },
    {
      "cell_type": "code",
      "source": [
        "def recommend_items(user_id, items=10):\n",
        "    item_ids = np.arange(items)\n",
        "    user_ids = np.repeat(user_id, items)\n",
        "    user_ids_onehot = to_categorical(user_ids, num_classes=num_users)\n",
        "    item_ids_onehot = to_categorical(item_ids, num_classes=num_items)\n",
        "    rating_predictions, verified_purchase_predictions = neumf_model.predict([user_ids_onehot, item_ids_onehot])\n",
        "    item_ratings = list(zip(item_ids, rating_predictions.flatten(), verified_purchase_predictions.flatten()))\n",
        "    # item_ratings = [(item_id, rating, verified_purchase) for item_id, rating, verified_purchase in item_ratings\n",
        "    #                 if verified_purchase >= 0.5 and rating > 3.0]\n",
        "    item_ratings = [(item_id, rating, verified_purchase) for item_id, rating, verified_purchase in item_ratings]\n",
        "    item_ratings.sort(key=lambda x: x[1], reverse=True)\n",
        "    recommended_items = [(item_id, rating, verified_purchase) for item_id, rating, verified_purchase in item_ratings[:num_items]]\n",
        "    return recommended_items"
      ],
      "metadata": {
        "id": "CaU221wAhQKN"
      },
      "execution_count": 12,
      "outputs": []
    },
    {
      "cell_type": "code",
      "source": [
        "neumf_model.summary()"
      ],
      "metadata": {
        "colab": {
          "base_uri": "https://localhost:8080/"
        },
        "id": "bKEAxZGoi4Q1",
        "outputId": "0528348c-ccd3-41f4-fc0b-b8a77bd719ad"
      },
      "execution_count": 51,
      "outputs": [
        {
          "output_type": "stream",
          "name": "stdout",
          "text": [
            "Model: \"model_6\"\n",
            "__________________________________________________________________________________________________\n",
            " Layer (type)                   Output Shape         Param #     Connected to                     \n",
            "==================================================================================================\n",
            " input_25 (InputLayer)          [(None, 8120)]       0           []                               \n",
            "                                                                                                  \n",
            " input_26 (InputLayer)          [(None, 7427)]       0           []                               \n",
            "                                                                                                  \n",
            " embedding_48 (Embedding)       (None, 8120, 32)     259840      ['input_25[0][0]']               \n",
            "                                                                                                  \n",
            " embedding_50 (Embedding)       (None, 7427, 32)     237664      ['input_26[0][0]']               \n",
            "                                                                                                  \n",
            " flatten_44 (Flatten)           (None, 259840)       0           ['embedding_48[0][0]']           \n",
            "                                                                                                  \n",
            " flatten_46 (Flatten)           (None, 237664)       0           ['embedding_50[0][0]']           \n",
            "                                                                                                  \n",
            " concatenate_33 (Concatenate)   (None, 497504)       0           ['flatten_44[0][0]',             \n",
            "                                                                  'flatten_46[0][0]']             \n",
            "                                                                                                  \n",
            " dense_62 (Dense)               (None, 64)           31840320    ['concatenate_33[0][0]']         \n",
            "                                                                                                  \n",
            " dropout_38 (Dropout)           (None, 64)           0           ['dense_62[0][0]']               \n",
            "                                                                                                  \n",
            " dense_63 (Dense)               (None, 64)           4160        ['dropout_38[0][0]']             \n",
            "                                                                                                  \n",
            " embedding_49 (Embedding)       (None, 8120, 32)     259840      ['input_25[0][0]']               \n",
            "                                                                                                  \n",
            " embedding_51 (Embedding)       (None, 7427, 32)     237664      ['input_26[0][0]']               \n",
            "                                                                                                  \n",
            " dropout_39 (Dropout)           (None, 64)           0           ['dense_63[0][0]']               \n",
            "                                                                                                  \n",
            " flatten_45 (Flatten)           (None, 259840)       0           ['embedding_49[0][0]']           \n",
            "                                                                                                  \n",
            " flatten_47 (Flatten)           (None, 237664)       0           ['embedding_51[0][0]']           \n",
            "                                                                                                  \n",
            " dense_64 (Dense)               (None, 64)           4160        ['dropout_39[0][0]']             \n",
            "                                                                                                  \n",
            " concatenate_34 (Concatenate)   (None, 497504)       0           ['flatten_45[0][0]',             \n",
            "                                                                  'flatten_47[0][0]']             \n",
            "                                                                                                  \n",
            " dropout_40 (Dropout)           (None, 64)           0           ['dense_64[0][0]']               \n",
            "                                                                                                  \n",
            " dense_65 (Dense)               (None, 64)           31840320    ['concatenate_34[0][0]']         \n",
            "                                                                                                  \n",
            " concatenate_35 (Concatenate)   (None, 128)          0           ['dropout_40[0][0]',             \n",
            "                                                                  'dense_65[0][0]']               \n",
            "                                                                                                  \n",
            " dense_66 (Dense)               (None, 1)            129         ['concatenate_35[0][0]']         \n",
            "                                                                                                  \n",
            " tf.math.multiply_2 (TFOpLambda  (None, 1)           0           ['dense_66[0][0]']               \n",
            " )                                                                                                \n",
            "                                                                                                  \n",
            " concatenate_36 (Concatenate)   (None, 128)          0           ['dropout_40[0][0]',             \n",
            "                                                                  'dense_65[0][0]']               \n",
            "                                                                                                  \n",
            " tf.__operators__.add_2 (TFOpLa  (None, 1)           0           ['tf.math.multiply_2[0][0]']     \n",
            " mbda)                                                                                            \n",
            "                                                                                                  \n",
            " dense_67 (Dense)               (None, 1)            129         ['concatenate_36[0][0]']         \n",
            "                                                                                                  \n",
            "==================================================================================================\n",
            "Total params: 64,684,226\n",
            "Trainable params: 64,684,226\n",
            "Non-trainable params: 0\n",
            "__________________________________________________________________________________________________\n"
          ]
        }
      ]
    },
    {
      "cell_type": "code",
      "source": [
        "res = recommend_items(user_id=train_data.customer_id[0])\n",
        "print(res)"
      ],
      "metadata": {
        "id": "oCqiAfOXinT6"
      },
      "execution_count": null,
      "outputs": []
    }
  ]
}