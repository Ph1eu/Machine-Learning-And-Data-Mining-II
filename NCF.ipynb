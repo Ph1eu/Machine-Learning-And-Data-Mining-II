{
  "nbformat": 4,
  "nbformat_minor": 0,
  "metadata": {
    "colab": {
      "provenance": []
    },
    "kernelspec": {
      "name": "python3",
      "display_name": "Python 3"
    },
    "language_info": {
      "name": "python"
    },
    "gpuClass": "standard"
  },
  "cells": [
    {
      "cell_type": "code",
      "source": [
        "# Import necessary libraries\n",
        "import numpy as np\n",
        "import pandas as pd\n",
        "from sklearn.cluster import KMeans\n",
        "import tensorflow as tf\n",
        "from tensorflow.keras.layers import Input, Embedding, Flatten, Concatenate, Dense, Dropout, Multiply\n",
        "from tensorflow.keras.models import Model\n",
        "from tensorflow.keras.optimizers import Adam\n",
        "from tensorflow.keras.utils import to_categorical\n",
        "from tensorflow.keras.regularizers import l2"
      ],
      "metadata": {
        "id": "9I5WIy0EggVY"
      },
      "execution_count": 1,
      "outputs": []
    },
    {
      "cell_type": "code",
      "source": [
        "# Load and preprocess data\n",
        "train_data = pd.read_csv('neumf_train_data.csv')\n",
        "test_data = pd.read_csv('neumf_test_data.csv')\n",
        "\n",
        "concat_df = pd.concat([train_data, test_data], axis=0)\n",
        "num_users, num_items = len(concat_df.customer_id.unique()), len(concat_df.product_id.unique())"
      ],
      "metadata": {
        "id": "k1tGscZiglUR"
      },
      "execution_count": 2,
      "outputs": []
    },
    {
      "cell_type": "code",
      "source": [
        "interactions = pd.pivot_table(concat_df, values='star_rating', index='customer_id', columns='product_id')\n",
        "interactions = interactions.fillna(0)\n",
        "print(interactions)\n",
        "# interactions = np.array(interactions)"
      ],
      "metadata": {
        "colab": {
          "base_uri": "https://localhost:8080/"
        },
        "id": "jIDsvIgnVfdE",
        "outputId": "f4b2048f-bcfa-473c-cfe4-b5be1da68588"
      },
      "execution_count": 3,
      "outputs": [
        {
          "output_type": "stream",
          "name": "stdout",
          "text": [
            "product_id   0     1     2     3     4     5     6     7     8     9     ...  \\\n",
            "customer_id                                                              ...   \n",
            "0             0.0   0.0   0.0   0.0   0.0   0.0   0.0   0.0   0.0   0.0  ...   \n",
            "1             0.0   0.0   0.0   0.0   0.0   0.0   0.0   0.0   0.0   0.0  ...   \n",
            "2             0.0   0.0   0.0   0.0   0.0   0.0   0.0   0.0   0.0   0.0  ...   \n",
            "3             0.0   0.0   0.0   0.0   0.0   0.0   0.0   0.0   0.0   0.0  ...   \n",
            "4             0.0   0.0   0.0   0.0   0.0   0.0   0.0   0.0   0.0   0.0  ...   \n",
            "...           ...   ...   ...   ...   ...   ...   ...   ...   ...   ...  ...   \n",
            "7963          0.0   0.0   0.0   0.0   0.0   0.0   0.0   0.0   0.0   0.0  ...   \n",
            "7964          0.0   0.0   0.0   0.0   0.0   0.0   0.0   0.0   0.0   0.0  ...   \n",
            "7965          0.0   0.0   0.0   0.0   0.0   0.0   0.0   0.0   0.0   0.0  ...   \n",
            "7966          0.0   0.0   0.0   0.0   0.0   0.0   0.0   0.0   0.0   0.0  ...   \n",
            "7967          0.0   0.0   0.0   0.0   0.0   0.0   0.0   0.0   0.0   0.0  ...   \n",
            "\n",
            "product_id   5936  5937  5938  5939  5940  5941  5942  5943  5944  5945  \n",
            "customer_id                                                              \n",
            "0             0.0   0.0   0.0   0.0   0.0   0.0   0.0   0.0   0.0   0.0  \n",
            "1             0.0   0.0   0.0   0.0   0.0   0.0   0.0   0.0   0.0   0.0  \n",
            "2             0.0   0.0   0.0   0.0   0.0   0.0   0.0   0.0   0.0   0.0  \n",
            "3             0.0   0.0   0.0   0.0   0.0   0.0   0.0   0.0   0.0   0.0  \n",
            "4             0.0   0.0   0.0   0.0   0.0   0.0   0.0   0.0   0.0   0.0  \n",
            "...           ...   ...   ...   ...   ...   ...   ...   ...   ...   ...  \n",
            "7963          0.0   0.0   0.0   0.0   0.0   0.0   0.0   0.0   0.0   0.0  \n",
            "7964          0.0   0.0   0.0   0.0   0.0   0.0   0.0   0.0   0.0   0.0  \n",
            "7965          0.0   0.0   0.0   0.0   0.0   0.0   0.0   0.0   0.0   0.0  \n",
            "7966          0.0   0.0   0.0   0.0   0.0   0.0   0.0   0.0   0.0   0.0  \n",
            "7967          0.0   0.0   0.0   0.0   0.0   0.0   0.0   0.0   0.0   0.0  \n",
            "\n",
            "[7968 rows x 5946 columns]\n"
          ]
        }
      ]
    },
    {
      "cell_type": "code",
      "source": [
        "# for user_id, user_ratings in interactions.iterrows():\n",
        "#     if (user_ratings > 0).sum() > 1:\n",
        "#         print(\"User ID:\", user_id)\n",
        "#         print(user_ratings[user_ratings > 0])"
      ],
      "metadata": {
        "id": "bkRMiEHvV953"
      },
      "execution_count": null,
      "outputs": []
    },
    {
      "cell_type": "code",
      "source": [
        "print(num_users, num_items)"
      ],
      "metadata": {
        "colab": {
          "base_uri": "https://localhost:8080/"
        },
        "id": "vKlhYO-zM7WX",
        "outputId": "603c8260-50d9-479d-8474-44f407057077"
      },
      "execution_count": 5,
      "outputs": [
        {
          "output_type": "stream",
          "name": "stdout",
          "text": [
            "7968 5946\n"
          ]
        }
      ]
    },
    {
      "cell_type": "code",
      "source": [
        "# full NCF model\n",
        "def get_model(num_users, num_items, latent_dim=8, dense_layers=[64, 32, 16, 8],\n",
        "              reg_layers=[0, 0, 0, 0], reg_mf=0, model_type='predict_rating'):\n",
        "\n",
        "    # input layer\n",
        "    input_user = Input(shape=(1,), dtype='int32', name='user_input')\n",
        "    input_item = Input(shape=(1,), dtype='int32', name='item_input')\n",
        "    \n",
        "    # embedding layer\n",
        "    mf_user_embedding = Embedding(input_dim=num_users, output_dim=latent_dim,\n",
        "                        name='mf_user_embedding',\n",
        "                        embeddings_initializer='RandomNormal',\n",
        "                        embeddings_regularizer=l2(reg_mf), input_length=1)\n",
        "    mf_item_embedding = Embedding(input_dim=num_items, output_dim=latent_dim,\n",
        "                        name='mf_item_embedding',\n",
        "                        embeddings_initializer='RandomNormal',\n",
        "                        embeddings_regularizer=l2(reg_mf), input_length=1)\n",
        "    mlp_user_embedding = Embedding(input_dim=num_users, output_dim=int(dense_layers[0]/2),\n",
        "                         name='mlp_user_embedding',\n",
        "                         embeddings_initializer='RandomNormal',\n",
        "                         embeddings_regularizer=l2(reg_layers[0]), \n",
        "                         input_length=1)\n",
        "    mlp_item_embedding = Embedding(input_dim=num_items, output_dim=int(dense_layers[0]/2),\n",
        "                         name='mlp_item_embedding',\n",
        "                         embeddings_initializer='RandomNormal',\n",
        "                         embeddings_regularizer=l2(reg_layers[0]), \n",
        "                         input_length=1)\n",
        "\n",
        "    # MF latent vector\n",
        "    mf_user_latent = Flatten()(mf_user_embedding(input_user))\n",
        "    mf_item_latent = Flatten()(mf_item_embedding(input_item))\n",
        "    mf_cat_latent = Multiply()([mf_user_latent, mf_item_latent])\n",
        "\n",
        "\n",
        "    # MLP latent vector\n",
        "    mlp_user_latent = Flatten()(mlp_user_embedding(input_user))\n",
        "    mlp_item_latent = Flatten()(mlp_item_embedding(input_item))\n",
        "    mlp_cat_latent = Concatenate()([mlp_user_latent, mlp_item_latent])\n",
        "    \n",
        "    mlp_vector = mlp_cat_latent\n",
        "    \n",
        "    # build dense layer for model\n",
        "    for i in range(1,len(dense_layers)):\n",
        "        layer = Dense(dense_layers[i],\n",
        "                      activity_regularizer=l2(reg_layers[i]),\n",
        "                      activation='relu',\n",
        "                      name='layer%d' % i)\n",
        "        mlp_vector = layer(mlp_vector)\n",
        "\n",
        "    predict_layer = Concatenate()([mf_cat_latent, mlp_vector])\n",
        "\n",
        "    activation = 'sigmoid'\n",
        "    if model_type == 'predict_rating': activation = 'linear'\n",
        "    result = Dense(1, activation=activation,  # linear for rating, sigmoid for verified_purchase\n",
        "                   kernel_initializer='lecun_uniform',name='result')\n",
        "\n",
        "    model = Model(inputs=[input_user,input_item], outputs=result(predict_layer))\n",
        "    return model"
      ],
      "metadata": {
        "id": "iIKJiN4bqDjj"
      },
      "execution_count": 4,
      "outputs": []
    },
    {
      "cell_type": "code",
      "source": [
        "epochs = 10\n",
        "verbose = 1\n",
        "batch_size = 64\n",
        "latent_dim = 8\n",
        "dense_layers = [64, 32, 16, 8]\n",
        "reg_layers = [0, 0, 0, 0]\n",
        "reg_mf = 0\n",
        "learning_rate = 0.001\n",
        "learner = 'adam'"
      ],
      "metadata": {
        "id": "IfGkLd42rFjP"
      },
      "execution_count": 5,
      "outputs": []
    },
    {
      "cell_type": "code",
      "source": [
        "# get model\n",
        "model_rating = get_model(num_users, num_items, latent_dim, dense_layers, reg_layers, reg_mf, model_type='predict_rating')\n",
        "model_rating.load_weights('model_rating_weights.h5')\n",
        "model_rating.compile(optimizer=Adam(learning_rate=learning_rate), loss='mean_squared_error', metrics=['accuracy'])\n",
        "print(model_rating.summary())"
      ],
      "metadata": {
        "colab": {
          "base_uri": "https://localhost:8080/"
        },
        "id": "gwa56rzex48o",
        "outputId": "fbe4c126-f712-4b94-aa9b-b00a44100386"
      },
      "execution_count": 6,
      "outputs": [
        {
          "output_type": "stream",
          "name": "stdout",
          "text": [
            "Model: \"model\"\n",
            "__________________________________________________________________________________________________\n",
            " Layer (type)                   Output Shape         Param #     Connected to                     \n",
            "==================================================================================================\n",
            " user_input (InputLayer)        [(None, 1)]          0           []                               \n",
            "                                                                                                  \n",
            " item_input (InputLayer)        [(None, 1)]          0           []                               \n",
            "                                                                                                  \n",
            " mlp_user_embedding (Embedding)  (None, 1, 32)       254976      ['user_input[0][0]']             \n",
            "                                                                                                  \n",
            " mlp_item_embedding (Embedding)  (None, 1, 32)       190272      ['item_input[0][0]']             \n",
            "                                                                                                  \n",
            " flatten_2 (Flatten)            (None, 32)           0           ['mlp_user_embedding[0][0]']     \n",
            "                                                                                                  \n",
            " flatten_3 (Flatten)            (None, 32)           0           ['mlp_item_embedding[0][0]']     \n",
            "                                                                                                  \n",
            " concatenate (Concatenate)      (None, 64)           0           ['flatten_2[0][0]',              \n",
            "                                                                  'flatten_3[0][0]']              \n",
            "                                                                                                  \n",
            " mf_user_embedding (Embedding)  (None, 1, 8)         63744       ['user_input[0][0]']             \n",
            "                                                                                                  \n",
            " mf_item_embedding (Embedding)  (None, 1, 8)         47568       ['item_input[0][0]']             \n",
            "                                                                                                  \n",
            " layer1 (Dense)                 (None, 32)           2080        ['concatenate[0][0]']            \n",
            "                                                                                                  \n",
            " flatten (Flatten)              (None, 8)            0           ['mf_user_embedding[0][0]']      \n",
            "                                                                                                  \n",
            " flatten_1 (Flatten)            (None, 8)            0           ['mf_item_embedding[0][0]']      \n",
            "                                                                                                  \n",
            " layer2 (Dense)                 (None, 16)           528         ['layer1[0][0]']                 \n",
            "                                                                                                  \n",
            " multiply (Multiply)            (None, 8)            0           ['flatten[0][0]',                \n",
            "                                                                  'flatten_1[0][0]']              \n",
            "                                                                                                  \n",
            " layer3 (Dense)                 (None, 8)            136         ['layer2[0][0]']                 \n",
            "                                                                                                  \n",
            " concatenate_1 (Concatenate)    (None, 16)           0           ['multiply[0][0]',               \n",
            "                                                                  'layer3[0][0]']                 \n",
            "                                                                                                  \n",
            " result (Dense)                 (None, 1)            17          ['concatenate_1[0][0]']          \n",
            "                                                                                                  \n",
            "==================================================================================================\n",
            "Total params: 559,321\n",
            "Trainable params: 559,321\n",
            "Non-trainable params: 0\n",
            "__________________________________________________________________________________________________\n",
            "None\n"
          ]
        }
      ]
    },
    {
      "cell_type": "code",
      "source": [
        "model_verified_purchase = get_model(num_users, num_items, latent_dim, dense_layers, reg_layers, reg_mf, model_type='predict_vf')\n",
        "model_verified_purchase.load_weights('model_vp_weights.h5')\n",
        "model_verified_purchase.compile(optimizer=Adam(learning_rate=learning_rate), loss='binary_crossentropy', metrics=['accuracy'])"
      ],
      "metadata": {
        "id": "Fc7afw0HwV9U"
      },
      "execution_count": 7,
      "outputs": []
    },
    {
      "cell_type": "code",
      "source": [
        "# Train rating model\n",
        "model_rating.fit(x=[np.array(train_data.customer_id), np.array(train_data.product_id)],\n",
        "                y=np.array(train_data.star_rating),\n",
        "                validation_data=([np.array(test_data.customer_id), np.array(test_data.product_id)],\n",
        "                          np.array(test_data.star_rating)),\n",
        "                batch_size=batch_size,\n",
        "                epochs=epochs,\n",
        "                verbose=1,\n",
        "                shuffle=True)\n",
        "model_rating.save_weights('model_rating_weights.h5')"
      ],
      "metadata": {
        "id": "7OaOjCanhLGl",
        "colab": {
          "base_uri": "https://localhost:8080/"
        },
        "outputId": "0179150a-5b90-4861-f118-ce63acd59d36"
      },
      "execution_count": 37,
      "outputs": [
        {
          "output_type": "stream",
          "name": "stdout",
          "text": [
            "Epoch 1/10\n",
            "510/510 [==============================] - 8s 10ms/step - loss: 2.9419 - accuracy: 0.1281 - val_loss: 11.4683 - val_accuracy: 0.1884\n",
            "Epoch 2/10\n",
            "510/510 [==============================] - 4s 9ms/step - loss: 2.7596 - accuracy: 0.0572 - val_loss: 11.2540 - val_accuracy: 0.1872\n",
            "Epoch 3/10\n",
            "510/510 [==============================] - 5s 10ms/step - loss: 2.4004 - accuracy: 0.2830 - val_loss: 11.5996 - val_accuracy: 0.1366\n",
            "Epoch 4/10\n",
            "510/510 [==============================] - 4s 9ms/step - loss: 1.4531 - accuracy: 0.5473 - val_loss: 11.8855 - val_accuracy: 0.1017\n",
            "Epoch 5/10\n",
            "510/510 [==============================] - 5s 9ms/step - loss: 0.4502 - accuracy: 0.7276 - val_loss: 12.4347 - val_accuracy: 0.0715\n",
            "Epoch 6/10\n",
            "510/510 [==============================] - 5s 10ms/step - loss: 0.1881 - accuracy: 0.7831 - val_loss: 12.4190 - val_accuracy: 0.0750\n",
            "Epoch 7/10\n",
            "510/510 [==============================] - 4s 9ms/step - loss: 0.1247 - accuracy: 0.8009 - val_loss: 11.8385 - val_accuracy: 0.0872\n",
            "Epoch 8/10\n",
            "510/510 [==============================] - 5s 10ms/step - loss: 0.0835 - accuracy: 0.8067 - val_loss: 12.0785 - val_accuracy: 0.0767\n",
            "Epoch 9/10\n",
            "510/510 [==============================] - 4s 9ms/step - loss: 0.0633 - accuracy: 0.8137 - val_loss: 12.1910 - val_accuracy: 0.0762\n",
            "Epoch 10/10\n",
            "510/510 [==============================] - 4s 9ms/step - loss: 0.0557 - accuracy: 0.8169 - val_loss: 11.6599 - val_accuracy: 0.0855\n"
          ]
        }
      ]
    },
    {
      "cell_type": "code",
      "source": [
        "# Train verified purchase model\n",
        "model_verified_purchase.fit(x=[np.array(train_data.customer_id), np.array(train_data.product_id)],\n",
        "                y=np.array(train_data.verified_purchase), \n",
        "                validation_data=([np.array(test_data.customer_id), np.array(test_data.product_id)],\n",
        "                          np.array(test_data.verified_purchase)), \n",
        "                batch_size=batch_size,\n",
        "                epochs=epochs,\n",
        "                verbose=1,\n",
        "                shuffle=True)\n",
        "model_verified_purchase.save_weights('model_vp_weights.h5')"
      ],
      "metadata": {
        "colab": {
          "base_uri": "https://localhost:8080/"
        },
        "id": "6a2iICfnAZbe",
        "outputId": "cf2e020e-ab7a-4337-9523-1fb8b4dd94a8"
      },
      "execution_count": 38,
      "outputs": [
        {
          "output_type": "stream",
          "name": "stdout",
          "text": [
            "Epoch 1/10\n",
            "510/510 [==============================] - 7s 9ms/step - loss: 0.3868 - accuracy: 0.8926 - val_loss: 1.1890 - val_accuracy: 0.5006\n",
            "Epoch 2/10\n",
            "510/510 [==============================] - 5s 11ms/step - loss: 0.3036 - accuracy: 0.8966 - val_loss: 1.1594 - val_accuracy: 0.5070\n",
            "Epoch 3/10\n",
            "510/510 [==============================] - 4s 9ms/step - loss: 0.2410 - accuracy: 0.8977 - val_loss: 1.5709 - val_accuracy: 0.5099\n",
            "Epoch 4/10\n",
            "510/510 [==============================] - 5s 10ms/step - loss: 0.1706 - accuracy: 0.9182 - val_loss: 1.9125 - val_accuracy: 0.5291\n",
            "Epoch 5/10\n",
            "510/510 [==============================] - 6s 12ms/step - loss: 0.1083 - accuracy: 0.9580 - val_loss: 2.5243 - val_accuracy: 0.5297\n",
            "Epoch 6/10\n",
            "510/510 [==============================] - 4s 9ms/step - loss: 0.0500 - accuracy: 0.9857 - val_loss: 3.4373 - val_accuracy: 0.5308\n",
            "Epoch 7/10\n",
            "510/510 [==============================] - 5s 10ms/step - loss: 0.0150 - accuracy: 0.9973 - val_loss: 4.2742 - val_accuracy: 0.5320\n",
            "Epoch 8/10\n",
            "510/510 [==============================] - 4s 8ms/step - loss: 0.0037 - accuracy: 0.9997 - val_loss: 4.7212 - val_accuracy: 0.5343\n",
            "Epoch 9/10\n",
            "510/510 [==============================] - 4s 9ms/step - loss: 9.5081e-04 - accuracy: 1.0000 - val_loss: 5.1406 - val_accuracy: 0.5384\n",
            "Epoch 10/10\n",
            "510/510 [==============================] - 5s 10ms/step - loss: 3.6570e-04 - accuracy: 1.0000 - val_loss: 5.5021 - val_accuracy: 0.5355\n"
          ]
        }
      ]
    },
    {
      "cell_type": "code",
      "source": [
        "model = model_rating"
      ],
      "metadata": {
        "id": "cvmzFZkYwe6x"
      },
      "execution_count": 48,
      "outputs": []
    },
    {
      "cell_type": "code",
      "source": [
        "predictions = model.predict([np.array(train_data.customer_id), np.array(train_data.product_id)])\n",
        "for i in range(30,70):\n",
        "  print(f\"riu: {train_data.star_rating.iloc[i]}, predicted: {(predictions[i][0])}\")"
      ],
      "metadata": {
        "colab": {
          "base_uri": "https://localhost:8080/"
        },
        "id": "7snX8h826mFk",
        "outputId": "7f3dba71-f21c-4836-c39f-d4e1ca42670b"
      },
      "execution_count": 50,
      "outputs": [
        {
          "output_type": "stream",
          "name": "stdout",
          "text": [
            "1020/1020 [==============================] - 2s 2ms/step\n",
            "riu: 0.0, predicted: -0.0038194656372070312\n",
            "riu: 0.0, predicted: 0.03334152698516846\n",
            "riu: 0.0, predicted: 0.056348204612731934\n",
            "riu: 0.0, predicted: -0.004281967878341675\n",
            "riu: 0.0, predicted: 0.0808018147945404\n",
            "riu: 0.0, predicted: 0.01619453728199005\n",
            "riu: 5.0, predicted: 4.8797688484191895\n",
            "riu: 4.0, predicted: 3.67042875289917\n",
            "riu: 0.0, predicted: 0.3649331331253052\n",
            "riu: 0.0, predicted: 0.07992932200431824\n",
            "riu: 1.0, predicted: 0.9341310858726501\n",
            "riu: 0.0, predicted: -0.0077904462814331055\n",
            "riu: 0.0, predicted: -0.009457945823669434\n",
            "riu: 0.0, predicted: 0.10676541924476624\n",
            "riu: 0.0, predicted: -0.019530057907104492\n",
            "riu: 0.0, predicted: 0.0434286892414093\n",
            "riu: 0.0, predicted: 0.14926490187644958\n",
            "riu: 0.0, predicted: 0.01722368597984314\n",
            "riu: 4.0, predicted: 4.902644157409668\n",
            "riu: 0.0, predicted: 0.09040513634681702\n",
            "riu: 0.0, predicted: 0.00869092345237732\n",
            "riu: 0.0, predicted: 0.0977519303560257\n",
            "riu: 0.0, predicted: 0.16449418663978577\n",
            "riu: 5.0, predicted: 4.703673362731934\n",
            "riu: 0.0, predicted: 0.14488260447978973\n",
            "riu: 0.0, predicted: 0.05188320577144623\n",
            "riu: 4.0, predicted: 4.239277362823486\n",
            "riu: 4.0, predicted: 3.815457820892334\n",
            "riu: 0.0, predicted: -0.03985999524593353\n",
            "riu: 0.0, predicted: -0.030988872051239014\n",
            "riu: 1.0, predicted: 0.9010384678840637\n",
            "riu: 0.0, predicted: -0.052906692028045654\n",
            "riu: 0.0, predicted: 0.01876412332057953\n",
            "riu: 0.0, predicted: -0.03772759437561035\n",
            "riu: 0.0, predicted: -0.005525872111320496\n",
            "riu: 5.0, predicted: 5.209066390991211\n",
            "riu: 5.0, predicted: 5.4824724197387695\n",
            "riu: 0.0, predicted: -0.004210218787193298\n",
            "riu: 1.0, predicted: 1.3998730182647705\n",
            "riu: 0.0, predicted: 0.038634270429611206\n"
          ]
        }
      ]
    },
    {
      "cell_type": "markdown",
      "source": [
        "Recommendation"
      ],
      "metadata": {
        "id": "qGOFYYFv1sP2"
      }
    },
    {
      "cell_type": "code",
      "source": [
        "def get_recommendations(model, desired_user_id):\n",
        "  mlp_user_embedding_weights = (next(iter(filter(lambda x: x.name == 'mlp_user_embedding', model.layers))).get_weights())\n",
        "\n",
        "  # get the latent embedding for the desired user\n",
        "  user_latent_matrix = mlp_user_embedding_weights[0]\n",
        "\n",
        "  one_user_vector = user_latent_matrix[desired_user_id,:]\n",
        "  one_user_vector = np.reshape(one_user_vector, (1,32))\n",
        "\n",
        "  #cluster users into 100 clusters\n",
        "  kmeans = KMeans(n_clusters=100, random_state=0, n_init='auto', verbose=0).fit(user_latent_matrix)\n",
        "\n",
        "  #predict the cluster that the desired user belongs to\n",
        "  desired_user_label = kmeans.predict(one_user_vector)\n",
        "  user_label = kmeans.labels_ #no of user_ids\n",
        "  \n",
        "  #get user_ids in same cluster\n",
        "  neighbors = []\n",
        "  for user_id, user_label in enumerate(user_label):\n",
        "      if user_label == desired_user_label:\n",
        "          neighbors.append(user_id)\n",
        "  \n",
        "  #get the corresponding product ids of those users\n",
        "  product_ids = []\n",
        "  for user_id in neighbors:\n",
        "      product_ids += list(train_data[train_data['customer_id'] == int(user_id)]['product_id'])\n",
        "\n",
        "  users = np.full(len(product_ids), desired_user_id, dtype='int32')\n",
        "  items = np.array(product_ids, dtype='int32')\n",
        "\n",
        "  #make predictions on the users and products\n",
        "  predictions = model.predict([users,items],batch_size=100, verbose=0) \n",
        "  predictions = predictions.tolist()\n",
        "  predictions = [i[0] for i in predictions]\n",
        "  predictions = round_predictions(np.array(predictions))\n",
        "  return product_ids, predictions"
      ],
      "metadata": {
        "id": "2ePnptW2EOET"
      },
      "execution_count": 21,
      "outputs": []
    },
    {
      "cell_type": "code",
      "source": [
        "def round_predictions(arr):\n",
        "    result = arr.copy()\n",
        "    result[result < 0] = 0\n",
        "    result[result < 0.5] = np.floor(result[result < 0.5])\n",
        "    result[result >= 0.5] = np.ceil(result[result >= 0.5])\n",
        "    result[result > 5] = 5\n",
        "    return result"
      ],
      "metadata": {
        "id": "sMV4ukmyOp80"
      },
      "execution_count": 20,
      "outputs": []
    },
    {
      "cell_type": "code",
      "source": [
        "#user id to recommend the products to\n",
        "desired_user_id = train_data.customer_id[2]\n",
        "desired_user_id"
      ],
      "metadata": {
        "colab": {
          "base_uri": "https://localhost:8080/"
        },
        "id": "TQSY5Wo1GrUg",
        "outputId": "68c4a725-8fa6-4214-f134-63a682d7e2f6"
      },
      "execution_count": 58,
      "outputs": [
        {
          "output_type": "execute_result",
          "data": {
            "text/plain": [
              "2160"
            ]
          },
          "metadata": {},
          "execution_count": 58
        }
      ]
    },
    {
      "cell_type": "code",
      "source": [
        "product_ids, predictions = get_recommendations(model_rating, desired_user_id)\n",
        "results_df = pd.DataFrame({'product_id': product_ids, 'star_rating': predictions})\n",
        "results_df = results_df.sort_values(by='star_rating', ascending=False)\n",
        "#display recommended products in order using rating\n",
        "results_df"
      ],
      "metadata": {
        "colab": {
          "base_uri": "https://localhost:8080/",
          "height": 423
        },
        "id": "8weR5GWz0oER",
        "outputId": "749dd0a0-e6a1-4056-c5fa-271bf7280cc2"
      },
      "execution_count": 59,
      "outputs": [
        {
          "output_type": "execute_result",
          "data": {
            "text/plain": [
              "     product_id  star_rating\n",
              "141         664          5.0\n",
              "45         2657          5.0\n",
              "57          742          5.0\n",
              "33          724          5.0\n",
              "116        5274          5.0\n",
              "..          ...          ...\n",
              "22         3337          0.0\n",
              "21         3442          0.0\n",
              "148        4473          0.0\n",
              "150        3493          0.0\n",
              "147        5548          0.0\n",
              "\n",
              "[295 rows x 2 columns]"
            ],
            "text/html": [
              "\n",
              "  <div id=\"df-a67d6366-b3cb-4ea3-978d-473c6acc5548\">\n",
              "    <div class=\"colab-df-container\">\n",
              "      <div>\n",
              "<style scoped>\n",
              "    .dataframe tbody tr th:only-of-type {\n",
              "        vertical-align: middle;\n",
              "    }\n",
              "\n",
              "    .dataframe tbody tr th {\n",
              "        vertical-align: top;\n",
              "    }\n",
              "\n",
              "    .dataframe thead th {\n",
              "        text-align: right;\n",
              "    }\n",
              "</style>\n",
              "<table border=\"1\" class=\"dataframe\">\n",
              "  <thead>\n",
              "    <tr style=\"text-align: right;\">\n",
              "      <th></th>\n",
              "      <th>product_id</th>\n",
              "      <th>star_rating</th>\n",
              "    </tr>\n",
              "  </thead>\n",
              "  <tbody>\n",
              "    <tr>\n",
              "      <th>141</th>\n",
              "      <td>664</td>\n",
              "      <td>5.0</td>\n",
              "    </tr>\n",
              "    <tr>\n",
              "      <th>45</th>\n",
              "      <td>2657</td>\n",
              "      <td>5.0</td>\n",
              "    </tr>\n",
              "    <tr>\n",
              "      <th>57</th>\n",
              "      <td>742</td>\n",
              "      <td>5.0</td>\n",
              "    </tr>\n",
              "    <tr>\n",
              "      <th>33</th>\n",
              "      <td>724</td>\n",
              "      <td>5.0</td>\n",
              "    </tr>\n",
              "    <tr>\n",
              "      <th>116</th>\n",
              "      <td>5274</td>\n",
              "      <td>5.0</td>\n",
              "    </tr>\n",
              "    <tr>\n",
              "      <th>...</th>\n",
              "      <td>...</td>\n",
              "      <td>...</td>\n",
              "    </tr>\n",
              "    <tr>\n",
              "      <th>22</th>\n",
              "      <td>3337</td>\n",
              "      <td>0.0</td>\n",
              "    </tr>\n",
              "    <tr>\n",
              "      <th>21</th>\n",
              "      <td>3442</td>\n",
              "      <td>0.0</td>\n",
              "    </tr>\n",
              "    <tr>\n",
              "      <th>148</th>\n",
              "      <td>4473</td>\n",
              "      <td>0.0</td>\n",
              "    </tr>\n",
              "    <tr>\n",
              "      <th>150</th>\n",
              "      <td>3493</td>\n",
              "      <td>0.0</td>\n",
              "    </tr>\n",
              "    <tr>\n",
              "      <th>147</th>\n",
              "      <td>5548</td>\n",
              "      <td>0.0</td>\n",
              "    </tr>\n",
              "  </tbody>\n",
              "</table>\n",
              "<p>295 rows × 2 columns</p>\n",
              "</div>\n",
              "      <button class=\"colab-df-convert\" onclick=\"convertToInteractive('df-a67d6366-b3cb-4ea3-978d-473c6acc5548')\"\n",
              "              title=\"Convert this dataframe to an interactive table.\"\n",
              "              style=\"display:none;\">\n",
              "        \n",
              "  <svg xmlns=\"http://www.w3.org/2000/svg\" height=\"24px\"viewBox=\"0 0 24 24\"\n",
              "       width=\"24px\">\n",
              "    <path d=\"M0 0h24v24H0V0z\" fill=\"none\"/>\n",
              "    <path d=\"M18.56 5.44l.94 2.06.94-2.06 2.06-.94-2.06-.94-.94-2.06-.94 2.06-2.06.94zm-11 1L8.5 8.5l.94-2.06 2.06-.94-2.06-.94L8.5 2.5l-.94 2.06-2.06.94zm10 10l.94 2.06.94-2.06 2.06-.94-2.06-.94-.94-2.06-.94 2.06-2.06.94z\"/><path d=\"M17.41 7.96l-1.37-1.37c-.4-.4-.92-.59-1.43-.59-.52 0-1.04.2-1.43.59L10.3 9.45l-7.72 7.72c-.78.78-.78 2.05 0 2.83L4 21.41c.39.39.9.59 1.41.59.51 0 1.02-.2 1.41-.59l7.78-7.78 2.81-2.81c.8-.78.8-2.07 0-2.86zM5.41 20L4 18.59l7.72-7.72 1.47 1.35L5.41 20z\"/>\n",
              "  </svg>\n",
              "      </button>\n",
              "      \n",
              "  <style>\n",
              "    .colab-df-container {\n",
              "      display:flex;\n",
              "      flex-wrap:wrap;\n",
              "      gap: 12px;\n",
              "    }\n",
              "\n",
              "    .colab-df-convert {\n",
              "      background-color: #E8F0FE;\n",
              "      border: none;\n",
              "      border-radius: 50%;\n",
              "      cursor: pointer;\n",
              "      display: none;\n",
              "      fill: #1967D2;\n",
              "      height: 32px;\n",
              "      padding: 0 0 0 0;\n",
              "      width: 32px;\n",
              "    }\n",
              "\n",
              "    .colab-df-convert:hover {\n",
              "      background-color: #E2EBFA;\n",
              "      box-shadow: 0px 1px 2px rgba(60, 64, 67, 0.3), 0px 1px 3px 1px rgba(60, 64, 67, 0.15);\n",
              "      fill: #174EA6;\n",
              "    }\n",
              "\n",
              "    [theme=dark] .colab-df-convert {\n",
              "      background-color: #3B4455;\n",
              "      fill: #D2E3FC;\n",
              "    }\n",
              "\n",
              "    [theme=dark] .colab-df-convert:hover {\n",
              "      background-color: #434B5C;\n",
              "      box-shadow: 0px 1px 3px 1px rgba(0, 0, 0, 0.15);\n",
              "      filter: drop-shadow(0px 1px 2px rgba(0, 0, 0, 0.3));\n",
              "      fill: #FFFFFF;\n",
              "    }\n",
              "  </style>\n",
              "\n",
              "      <script>\n",
              "        const buttonEl =\n",
              "          document.querySelector('#df-a67d6366-b3cb-4ea3-978d-473c6acc5548 button.colab-df-convert');\n",
              "        buttonEl.style.display =\n",
              "          google.colab.kernel.accessAllowed ? 'block' : 'none';\n",
              "\n",
              "        async function convertToInteractive(key) {\n",
              "          const element = document.querySelector('#df-a67d6366-b3cb-4ea3-978d-473c6acc5548');\n",
              "          const dataTable =\n",
              "            await google.colab.kernel.invokeFunction('convertToInteractive',\n",
              "                                                     [key], {});\n",
              "          if (!dataTable) return;\n",
              "\n",
              "          const docLinkHtml = 'Like what you see? Visit the ' +\n",
              "            '<a target=\"_blank\" href=https://colab.research.google.com/notebooks/data_table.ipynb>data table notebook</a>'\n",
              "            + ' to learn more about interactive tables.';\n",
              "          element.innerHTML = '';\n",
              "          dataTable['output_type'] = 'display_data';\n",
              "          await google.colab.output.renderOutput(dataTable, element);\n",
              "          const docLink = document.createElement('div');\n",
              "          docLink.innerHTML = docLinkHtml;\n",
              "          element.appendChild(docLink);\n",
              "        }\n",
              "      </script>\n",
              "    </div>\n",
              "  </div>\n",
              "  "
            ]
          },
          "metadata": {},
          "execution_count": 59
        }
      ]
    },
    {
      "cell_type": "code",
      "source": [
        "product_ids, predictions = get_recommendations(model_verified_purchase, desired_user_id)\n",
        "results_df = pd.DataFrame({'product_id': product_ids, 'verified_purchase': predictions})\n",
        "results_df = results_df.sort_values(by='verified_purchase', ascending=False)\n",
        "#display recommended products in order using verified_purchase\n",
        "results_df"
      ],
      "metadata": {
        "colab": {
          "base_uri": "https://localhost:8080/",
          "height": 423
        },
        "id": "UwDEbQaIEACN",
        "outputId": "d6c9f775-b8cd-4dc4-815c-4736e1882e17"
      },
      "execution_count": 60,
      "outputs": [
        {
          "output_type": "execute_result",
          "data": {
            "text/plain": [
              "     product_id  verified_purchase\n",
              "287         338                1.0\n",
              "85         1084                1.0\n",
              "302        4371                1.0\n",
              "79         3062                1.0\n",
              "154        3801                1.0\n",
              "..          ...                ...\n",
              "134        5846                0.0\n",
              "133        3966                0.0\n",
              "132        5471                0.0\n",
              "131        4430                0.0\n",
              "365        1761                0.0\n",
              "\n",
              "[366 rows x 2 columns]"
            ],
            "text/html": [
              "\n",
              "  <div id=\"df-3fb1ed3b-7331-457b-a62f-88b3fdbb6f00\">\n",
              "    <div class=\"colab-df-container\">\n",
              "      <div>\n",
              "<style scoped>\n",
              "    .dataframe tbody tr th:only-of-type {\n",
              "        vertical-align: middle;\n",
              "    }\n",
              "\n",
              "    .dataframe tbody tr th {\n",
              "        vertical-align: top;\n",
              "    }\n",
              "\n",
              "    .dataframe thead th {\n",
              "        text-align: right;\n",
              "    }\n",
              "</style>\n",
              "<table border=\"1\" class=\"dataframe\">\n",
              "  <thead>\n",
              "    <tr style=\"text-align: right;\">\n",
              "      <th></th>\n",
              "      <th>product_id</th>\n",
              "      <th>verified_purchase</th>\n",
              "    </tr>\n",
              "  </thead>\n",
              "  <tbody>\n",
              "    <tr>\n",
              "      <th>287</th>\n",
              "      <td>338</td>\n",
              "      <td>1.0</td>\n",
              "    </tr>\n",
              "    <tr>\n",
              "      <th>85</th>\n",
              "      <td>1084</td>\n",
              "      <td>1.0</td>\n",
              "    </tr>\n",
              "    <tr>\n",
              "      <th>302</th>\n",
              "      <td>4371</td>\n",
              "      <td>1.0</td>\n",
              "    </tr>\n",
              "    <tr>\n",
              "      <th>79</th>\n",
              "      <td>3062</td>\n",
              "      <td>1.0</td>\n",
              "    </tr>\n",
              "    <tr>\n",
              "      <th>154</th>\n",
              "      <td>3801</td>\n",
              "      <td>1.0</td>\n",
              "    </tr>\n",
              "    <tr>\n",
              "      <th>...</th>\n",
              "      <td>...</td>\n",
              "      <td>...</td>\n",
              "    </tr>\n",
              "    <tr>\n",
              "      <th>134</th>\n",
              "      <td>5846</td>\n",
              "      <td>0.0</td>\n",
              "    </tr>\n",
              "    <tr>\n",
              "      <th>133</th>\n",
              "      <td>3966</td>\n",
              "      <td>0.0</td>\n",
              "    </tr>\n",
              "    <tr>\n",
              "      <th>132</th>\n",
              "      <td>5471</td>\n",
              "      <td>0.0</td>\n",
              "    </tr>\n",
              "    <tr>\n",
              "      <th>131</th>\n",
              "      <td>4430</td>\n",
              "      <td>0.0</td>\n",
              "    </tr>\n",
              "    <tr>\n",
              "      <th>365</th>\n",
              "      <td>1761</td>\n",
              "      <td>0.0</td>\n",
              "    </tr>\n",
              "  </tbody>\n",
              "</table>\n",
              "<p>366 rows × 2 columns</p>\n",
              "</div>\n",
              "      <button class=\"colab-df-convert\" onclick=\"convertToInteractive('df-3fb1ed3b-7331-457b-a62f-88b3fdbb6f00')\"\n",
              "              title=\"Convert this dataframe to an interactive table.\"\n",
              "              style=\"display:none;\">\n",
              "        \n",
              "  <svg xmlns=\"http://www.w3.org/2000/svg\" height=\"24px\"viewBox=\"0 0 24 24\"\n",
              "       width=\"24px\">\n",
              "    <path d=\"M0 0h24v24H0V0z\" fill=\"none\"/>\n",
              "    <path d=\"M18.56 5.44l.94 2.06.94-2.06 2.06-.94-2.06-.94-.94-2.06-.94 2.06-2.06.94zm-11 1L8.5 8.5l.94-2.06 2.06-.94-2.06-.94L8.5 2.5l-.94 2.06-2.06.94zm10 10l.94 2.06.94-2.06 2.06-.94-2.06-.94-.94-2.06-.94 2.06-2.06.94z\"/><path d=\"M17.41 7.96l-1.37-1.37c-.4-.4-.92-.59-1.43-.59-.52 0-1.04.2-1.43.59L10.3 9.45l-7.72 7.72c-.78.78-.78 2.05 0 2.83L4 21.41c.39.39.9.59 1.41.59.51 0 1.02-.2 1.41-.59l7.78-7.78 2.81-2.81c.8-.78.8-2.07 0-2.86zM5.41 20L4 18.59l7.72-7.72 1.47 1.35L5.41 20z\"/>\n",
              "  </svg>\n",
              "      </button>\n",
              "      \n",
              "  <style>\n",
              "    .colab-df-container {\n",
              "      display:flex;\n",
              "      flex-wrap:wrap;\n",
              "      gap: 12px;\n",
              "    }\n",
              "\n",
              "    .colab-df-convert {\n",
              "      background-color: #E8F0FE;\n",
              "      border: none;\n",
              "      border-radius: 50%;\n",
              "      cursor: pointer;\n",
              "      display: none;\n",
              "      fill: #1967D2;\n",
              "      height: 32px;\n",
              "      padding: 0 0 0 0;\n",
              "      width: 32px;\n",
              "    }\n",
              "\n",
              "    .colab-df-convert:hover {\n",
              "      background-color: #E2EBFA;\n",
              "      box-shadow: 0px 1px 2px rgba(60, 64, 67, 0.3), 0px 1px 3px 1px rgba(60, 64, 67, 0.15);\n",
              "      fill: #174EA6;\n",
              "    }\n",
              "\n",
              "    [theme=dark] .colab-df-convert {\n",
              "      background-color: #3B4455;\n",
              "      fill: #D2E3FC;\n",
              "    }\n",
              "\n",
              "    [theme=dark] .colab-df-convert:hover {\n",
              "      background-color: #434B5C;\n",
              "      box-shadow: 0px 1px 3px 1px rgba(0, 0, 0, 0.15);\n",
              "      filter: drop-shadow(0px 1px 2px rgba(0, 0, 0, 0.3));\n",
              "      fill: #FFFFFF;\n",
              "    }\n",
              "  </style>\n",
              "\n",
              "      <script>\n",
              "        const buttonEl =\n",
              "          document.querySelector('#df-3fb1ed3b-7331-457b-a62f-88b3fdbb6f00 button.colab-df-convert');\n",
              "        buttonEl.style.display =\n",
              "          google.colab.kernel.accessAllowed ? 'block' : 'none';\n",
              "\n",
              "        async function convertToInteractive(key) {\n",
              "          const element = document.querySelector('#df-3fb1ed3b-7331-457b-a62f-88b3fdbb6f00');\n",
              "          const dataTable =\n",
              "            await google.colab.kernel.invokeFunction('convertToInteractive',\n",
              "                                                     [key], {});\n",
              "          if (!dataTable) return;\n",
              "\n",
              "          const docLinkHtml = 'Like what you see? Visit the ' +\n",
              "            '<a target=\"_blank\" href=https://colab.research.google.com/notebooks/data_table.ipynb>data table notebook</a>'\n",
              "            + ' to learn more about interactive tables.';\n",
              "          element.innerHTML = '';\n",
              "          dataTable['output_type'] = 'display_data';\n",
              "          await google.colab.output.renderOutput(dataTable, element);\n",
              "          const docLink = document.createElement('div');\n",
              "          docLink.innerHTML = docLinkHtml;\n",
              "          element.appendChild(docLink);\n",
              "        }\n",
              "      </script>\n",
              "    </div>\n",
              "  </div>\n",
              "  "
            ]
          },
          "metadata": {},
          "execution_count": 60
        }
      ]
    }
  ]
}