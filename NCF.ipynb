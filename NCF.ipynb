{
  "nbformat": 4,
  "nbformat_minor": 0,
  "metadata": {
    "colab": {
      "provenance": []
    },
    "kernelspec": {
      "name": "python3",
      "display_name": "Python 3"
    },
    "language_info": {
      "name": "python"
    },
    "gpuClass": "standard"
  },
  "cells": [
    {
      "cell_type": "code",
      "source": [
        "# Import necessary libraries\n",
        "import numpy as np\n",
        "import pandas as pd\n",
        "import tensorflow as tf\n",
        "from tensorflow.keras.layers import Input, Embedding, Flatten, Concatenate, Dense, Dropout, Multiply\n",
        "from tensorflow.keras.models import Model\n",
        "from tensorflow.keras.optimizers import Adam\n",
        "from tensorflow.keras.utils import to_categorical\n",
        "from tensorflow.keras.regularizers import l2"
      ],
      "metadata": {
        "id": "9I5WIy0EggVY"
      },
      "execution_count": 110,
      "outputs": []
    },
    {
      "cell_type": "code",
      "source": [
        "# Load and preprocess data\n",
        "train_data = pd.read_csv('neumf_train_data.csv')\n",
        "test_data = pd.read_csv('neumf_test_data.csv')\n",
        "\n",
        "# num_users = len(train_data.customer_id.unique()) + len(test_data.customer_id.unique())\n",
        "# num_items = len(train_data.product_id.unique()) + len(test_data.product_id.unique())\n",
        "concat_df = pd.concat([train_data, test_data], axis=0)\n",
        "num_users, num_items = len(concat_df.customer_id.unique()), len(concat_df.product_id.unique())"
      ],
      "metadata": {
        "id": "k1tGscZiglUR"
      },
      "execution_count": 111,
      "outputs": []
    },
    {
      "cell_type": "code",
      "source": [
        "print(num_users, num_items)"
      ],
      "metadata": {
        "colab": {
          "base_uri": "https://localhost:8080/"
        },
        "id": "vKlhYO-zM7WX",
        "outputId": "3cfb2c08-42bf-4897-8aad-7b0aaa9146dd"
      },
      "execution_count": null,
      "outputs": [
        {
          "output_type": "stream",
          "name": "stdout",
          "text": [
            "7968 5946\n"
          ]
        }
      ]
    },
    {
      "cell_type": "code",
      "source": [
        "# full NCF model\n",
        "def get_model(num_users, num_items, latent_dim=8, dense_layers=[64, 32, 16, 8],\n",
        "              reg_layers=[0, 0, 0, 0], reg_mf=0):\n",
        "\n",
        "    # input layer\n",
        "    input_user = Input(shape=(1,), dtype='int32', name='user_input')\n",
        "    input_item = Input(shape=(1,), dtype='int32', name='item_input')\n",
        "    \n",
        "    # embedding layer\n",
        "    mf_user_embedding = Embedding(input_dim=num_users, output_dim=latent_dim,\n",
        "                        name='mf_user_embedding',\n",
        "                        embeddings_initializer='RandomNormal',\n",
        "                        embeddings_regularizer=l2(reg_mf), input_length=1)\n",
        "    mf_item_embedding = Embedding(input_dim=num_items, output_dim=latent_dim,\n",
        "                        name='mf_item_embedding',\n",
        "                        embeddings_initializer='RandomNormal',\n",
        "                        embeddings_regularizer=l2(reg_mf), input_length=1)\n",
        "    mlp_user_embedding = Embedding(input_dim=num_users, output_dim=int(dense_layers[0]/2),\n",
        "                         name='mlp_user_embedding',\n",
        "                         embeddings_initializer='RandomNormal',\n",
        "                         embeddings_regularizer=l2(reg_layers[0]), \n",
        "                         input_length=1)\n",
        "    mlp_item_embedding = Embedding(input_dim=num_items, output_dim=int(dense_layers[0]/2),\n",
        "                         name='mlp_item_embedding',\n",
        "                         embeddings_initializer='RandomNormal',\n",
        "                         embeddings_regularizer=l2(reg_layers[0]), \n",
        "                         input_length=1)\n",
        "\n",
        "    # MF latent vector\n",
        "    mf_user_latent = Flatten()(mf_user_embedding(input_user))\n",
        "    mf_item_latent = Flatten()(mf_item_embedding(input_item))\n",
        "    mf_cat_latent = Multiply()([mf_user_latent, mf_item_latent])\n",
        "\n",
        "\n",
        "    # MLP latent vector\n",
        "    mlp_user_latent = Flatten()(mlp_user_embedding(input_user))\n",
        "    mlp_item_latent = Flatten()(mlp_item_embedding(input_item))\n",
        "    mlp_cat_latent = Concatenate()([mlp_user_latent, mlp_item_latent])\n",
        "    \n",
        "    mlp_vector = mlp_cat_latent\n",
        "    \n",
        "    # build dense layer for model\n",
        "    for i in range(1,len(dense_layers)):\n",
        "        layer = Dense(dense_layers[i],\n",
        "                      activity_regularizer=l2(reg_layers[i]),\n",
        "                      activation='relu',\n",
        "                      name='layer%d' % i)\n",
        "        mlp_vector = layer(mlp_vector)\n",
        "\n",
        "    predict_layer = Concatenate()([mf_cat_latent, mlp_vector])\n",
        "\n",
        "    result = Dense(1,activation='linear',name='result')\n",
        "\n",
        "    model = Model(inputs=[input_user,input_item], outputs=[result(predict_layer)])\n",
        "    return model"
      ],
      "metadata": {
        "id": "iIKJiN4bqDjj"
      },
      "execution_count": 116,
      "outputs": []
    },
    {
      "cell_type": "code",
      "source": [
        "epochs = 5\n",
        "verbose = 1\n",
        "batch_size = 64\n",
        "latent_dim = 8\n",
        "dense_layers = [64, 32, 16, 8]\n",
        "reg_layers = [0, 0, 0, 0]\n",
        "reg_mf = 0\n",
        "learning_rate = 0.001\n",
        "learner = 'adam'\n",
        "\n",
        "# get model\n",
        "model = get_model(num_users, num_items, latent_dim, dense_layers, reg_layers, reg_mf)\n",
        "model.compile(optimizer=Adam(learning_rate=learning_rate), loss='mean_squared_error', metrics=['accuracy'])\n",
        "print(model.summary())"
      ],
      "metadata": {
        "colab": {
          "base_uri": "https://localhost:8080/"
        },
        "id": "IfGkLd42rFjP",
        "outputId": "879f3704-a80b-44ae-87d2-d19a36e1ce53"
      },
      "execution_count": 117,
      "outputs": [
        {
          "output_type": "stream",
          "name": "stdout",
          "text": [
            "Model: \"model_21\"\n",
            "__________________________________________________________________________________________________\n",
            " Layer (type)                   Output Shape         Param #     Connected to                     \n",
            "==================================================================================================\n",
            " user_input (InputLayer)        [(None, 1)]          0           []                               \n",
            "                                                                                                  \n",
            " item_input (InputLayer)        [(None, 1)]          0           []                               \n",
            "                                                                                                  \n",
            " mlp_user_embedding (Embedding)  (None, 1, 32)       254976      ['user_input[0][0]']             \n",
            "                                                                                                  \n",
            " mlp_item_embedding (Embedding)  (None, 1, 32)       190272      ['item_input[0][0]']             \n",
            "                                                                                                  \n",
            " flatten_74 (Flatten)           (None, 32)           0           ['mlp_user_embedding[0][0]']     \n",
            "                                                                                                  \n",
            " flatten_75 (Flatten)           (None, 32)           0           ['mlp_item_embedding[0][0]']     \n",
            "                                                                                                  \n",
            " concatenate_39 (Concatenate)   (None, 64)           0           ['flatten_74[0][0]',             \n",
            "                                                                  'flatten_75[0][0]']             \n",
            "                                                                                                  \n",
            " mf_user_embedding (Embedding)  (None, 1, 8)         63744       ['user_input[0][0]']             \n",
            "                                                                                                  \n",
            " mf_item_embedding (Embedding)  (None, 1, 8)         47568       ['item_input[0][0]']             \n",
            "                                                                                                  \n",
            " layer1 (Dense)                 (None, 32)           2080        ['concatenate_39[0][0]']         \n",
            "                                                                                                  \n",
            " flatten_72 (Flatten)           (None, 8)            0           ['mf_user_embedding[0][0]']      \n",
            "                                                                                                  \n",
            " flatten_73 (Flatten)           (None, 8)            0           ['mf_item_embedding[0][0]']      \n",
            "                                                                                                  \n",
            " layer2 (Dense)                 (None, 16)           528         ['layer1[0][0]']                 \n",
            "                                                                                                  \n",
            " multiply_18 (Multiply)         (None, 8)            0           ['flatten_72[0][0]',             \n",
            "                                                                  'flatten_73[0][0]']             \n",
            "                                                                                                  \n",
            " layer3 (Dense)                 (None, 8)            136         ['layer2[0][0]']                 \n",
            "                                                                                                  \n",
            " concatenate_40 (Concatenate)   (None, 16)           0           ['multiply_18[0][0]',            \n",
            "                                                                  'layer3[0][0]']                 \n",
            "                                                                                                  \n",
            " result (Dense)                 (None, 1)            17          ['concatenate_40[0][0]']         \n",
            "                                                                                                  \n",
            "==================================================================================================\n",
            "Total params: 559,321\n",
            "Trainable params: 559,321\n",
            "Non-trainable params: 0\n",
            "__________________________________________________________________________________________________\n",
            "None\n"
          ]
        }
      ]
    },
    {
      "cell_type": "code",
      "source": [
        "# Train NeuMF model\n",
        "model.fit(x=[np.array(train_data.customer_id), np.array(train_data.product_id)],\n",
        "                y=np.array(train_data.star_rating),\n",
        "                batch_size=64,\n",
        "                epochs=10,\n",
        "                verbose=1,\n",
        "                shuffle=True)\n",
        "# neumf_model.save_weights('neumf_model_weights.h5')"
      ],
      "metadata": {
        "id": "7OaOjCanhLGl",
        "colab": {
          "base_uri": "https://localhost:8080/"
        },
        "outputId": "9ab57114-ec5e-4168-a25d-a5fe93ce1afc"
      },
      "execution_count": 118,
      "outputs": [
        {
          "output_type": "stream",
          "name": "stdout",
          "text": [
            "Epoch 1/10\n",
            "510/510 [==============================] - 7s 10ms/step - loss: 2.9349 - accuracy: 0.1164\n",
            "Epoch 2/10\n",
            "510/510 [==============================] - 4s 9ms/step - loss: 2.7587 - accuracy: 0.1024\n",
            "Epoch 3/10\n",
            "510/510 [==============================] - 5s 10ms/step - loss: 2.2413 - accuracy: 0.3779\n",
            "Epoch 4/10\n",
            "510/510 [==============================] - 4s 8ms/step - loss: 0.9623 - accuracy: 0.6401\n",
            "Epoch 5/10\n",
            "510/510 [==============================] - 4s 9ms/step - loss: 0.2620 - accuracy: 0.7685\n",
            "Epoch 6/10\n",
            "510/510 [==============================] - 5s 11ms/step - loss: 0.1605 - accuracy: 0.7881\n",
            "Epoch 7/10\n",
            "510/510 [==============================] - 4s 9ms/step - loss: 0.1134 - accuracy: 0.7944\n",
            "Epoch 8/10\n",
            "510/510 [==============================] - 4s 9ms/step - loss: 0.0799 - accuracy: 0.7994\n",
            "Epoch 9/10\n",
            "510/510 [==============================] - 5s 10ms/step - loss: 0.0645 - accuracy: 0.8063\n",
            "Epoch 10/10\n",
            "510/510 [==============================] - 4s 9ms/step - loss: 0.0588 - accuracy: 0.8115\n"
          ]
        },
        {
          "output_type": "execute_result",
          "data": {
            "text/plain": [
              "<keras.callbacks.History at 0x7fa2802cdb80>"
            ]
          },
          "metadata": {},
          "execution_count": 118
        }
      ]
    },
    {
      "cell_type": "code",
      "source": [
        "predictions = model.predict([test_data.customer_id.head(10), test_data.product_id.head(10)])\n",
        "[print(predictions[i], test_data.star_rating.iloc[i]) for i in range(0,10)]"
      ],
      "metadata": {
        "colab": {
          "base_uri": "https://localhost:8080/"
        },
        "id": "7snX8h826mFk",
        "outputId": "145a93f4-d90f-460c-f492-199232ae077c"
      },
      "execution_count": 119,
      "outputs": [
        {
          "output_type": "stream",
          "name": "stdout",
          "text": [
            "1/1 [==============================] - 0s 196ms/step\n",
            "[0.10171491] 5.0\n",
            "[0.3631218] 5.0\n",
            "[0.15589114] 1.0\n",
            "[3.3329406] 3.0\n",
            "[2.4835858] 4.0\n",
            "[2.8021092] 2.0\n",
            "[0.77561784] 1.0\n",
            "[0.95302355] 5.0\n",
            "[0.31207603] 1.0\n",
            "[0.34244716] 5.0\n"
          ]
        },
        {
          "output_type": "execute_result",
          "data": {
            "text/plain": [
              "[None, None, None, None, None, None, None, None, None, None]"
            ]
          },
          "metadata": {},
          "execution_count": 119
        }
      ]
    },
    {
      "cell_type": "code",
      "source": [
        "def recommend_items(user_id, items=10):\n",
        "    item_ids = np.arange(items)\n",
        "    user_ids = np.repeat(user_id, items)\n",
        "    rating_predictions = model.predict([user_ids, item_ids])\n",
        "    item_ratings = list(zip(item_ids, rating_predictions.flatten()))\n",
        "    # item_ratings = [(item_id, rating, verified_purchase) for item_id, rating, verified_purchase in item_ratings\n",
        "    #                 if verified_purchase >= 0.5 and rating > 3.0]\n",
        "    item_ratings = [(item_id, rating) for item_id, rating in item_ratings]\n",
        "    item_ratings.sort(key=lambda x: x[1], reverse=True)\n",
        "    recommended_items = [(item_id, rating) for item_id, rating in item_ratings[:num_items]]\n",
        "    return recommended_items"
      ],
      "metadata": {
        "id": "CaU221wAhQKN"
      },
      "execution_count": 120,
      "outputs": []
    },
    {
      "cell_type": "code",
      "source": [
        "res = recommend_items(user_id=train_data.customer_id[0])\n",
        "print(res)"
      ],
      "metadata": {
        "colab": {
          "base_uri": "https://localhost:8080/"
        },
        "id": "oCqiAfOXinT6",
        "outputId": "2939e829-d78b-43e3-edd7-50bf4133abfb"
      },
      "execution_count": 121,
      "outputs": [
        {
          "output_type": "stream",
          "name": "stdout",
          "text": [
            "1/1 [==============================] - 0s 218ms/step\n",
            "[(3, 1.8718044), (0, 1.384535), (7, 1.2942575), (2, 0.49711728), (9, 0.42683178), (6, 0.4166601), (4, 0.40114656), (8, 0.31048316), (5, 0.2866903), (1, -0.034992784)]\n"
          ]
        }
      ]
    }
  ]
}