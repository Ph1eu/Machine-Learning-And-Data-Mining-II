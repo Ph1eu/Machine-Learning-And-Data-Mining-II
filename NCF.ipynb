{
  "nbformat": 4,
  "nbformat_minor": 0,
  "metadata": {
    "colab": {
      "provenance": []
    },
    "kernelspec": {
      "name": "python3",
      "display_name": "Python 3"
    },
    "language_info": {
      "name": "python"
    }
  },
  "cells": [
    {
      "cell_type": "code",
      "execution_count": 2,
      "metadata": {
        "id": "JFkZ_2IugNHD"
      },
      "outputs": [],
      "source": [
        "!pip install -q tensorflow"
      ]
    },
    {
      "cell_type": "code",
      "source": [
        "# Import necessary libraries\n",
        "import numpy as np\n",
        "import pandas as pd\n",
        "import tensorflow as tf\n",
        "from tensorflow.keras.layers import Input, Embedding, Flatten, Concatenate, Dense, Dropout\n",
        "from tensorflow.keras.models import Model\n",
        "from tensorflow.keras.optimizers import Adam"
      ],
      "metadata": {
        "id": "9I5WIy0EggVY"
      },
      "execution_count": 3,
      "outputs": []
    },
    {
      "cell_type": "code",
      "source": [
        "# Load and preprocess data\n",
        "train_data = pd.read_csv('neumf_train_data.csv')\n",
        "train_data['verified_purchase'] = np.where(train_data['verified_purchase'] == 'Y', 1, 0)\n",
        "\n",
        "test_data = pd.read_csv('neumf_test_data.csv')\n",
        "test_data['verified_purchase'] = np.where(test_data['verified_purchase'] == 'Y', 1, 0)\n",
        "\n",
        "num_users = len(train_data.customer_id.unique()) + len(test_data.customer_id.unique())\n",
        "num_items = len(train_data.product_id.unique()) + len(test_data.product_id.unique())"
      ],
      "metadata": {
        "id": "k1tGscZiglUR"
      },
      "execution_count": 25,
      "outputs": []
    },
    {
      "cell_type": "code",
      "source": [
        "train_data.head()"
      ],
      "metadata": {
        "colab": {
          "base_uri": "https://localhost:8080/",
          "height": 206
        },
        "id": "8JLuLhLvhoWy",
        "outputId": "12031f24-6792-4ecb-ed10-0be77b753bfe"
      },
      "execution_count": 19,
      "outputs": [
        {
          "output_type": "execute_result",
          "data": {
            "text/plain": [
              "   customer_id  product_id  star_rating  verified_purchase\n",
              "0         6552        4052          1.0                  0\n",
              "1         7179         579          0.0                  0\n",
              "2         2160        3996          0.0                  0\n",
              "3          611        4351          0.0                  0\n",
              "4         3016        3836          0.0                  0"
            ],
            "text/html": [
              "\n",
              "  <div id=\"df-614b1000-0773-4ee6-b4ec-750f3d012d14\">\n",
              "    <div class=\"colab-df-container\">\n",
              "      <div>\n",
              "<style scoped>\n",
              "    .dataframe tbody tr th:only-of-type {\n",
              "        vertical-align: middle;\n",
              "    }\n",
              "\n",
              "    .dataframe tbody tr th {\n",
              "        vertical-align: top;\n",
              "    }\n",
              "\n",
              "    .dataframe thead th {\n",
              "        text-align: right;\n",
              "    }\n",
              "</style>\n",
              "<table border=\"1\" class=\"dataframe\">\n",
              "  <thead>\n",
              "    <tr style=\"text-align: right;\">\n",
              "      <th></th>\n",
              "      <th>customer_id</th>\n",
              "      <th>product_id</th>\n",
              "      <th>star_rating</th>\n",
              "      <th>verified_purchase</th>\n",
              "    </tr>\n",
              "  </thead>\n",
              "  <tbody>\n",
              "    <tr>\n",
              "      <th>0</th>\n",
              "      <td>6552</td>\n",
              "      <td>4052</td>\n",
              "      <td>1.0</td>\n",
              "      <td>0</td>\n",
              "    </tr>\n",
              "    <tr>\n",
              "      <th>1</th>\n",
              "      <td>7179</td>\n",
              "      <td>579</td>\n",
              "      <td>0.0</td>\n",
              "      <td>0</td>\n",
              "    </tr>\n",
              "    <tr>\n",
              "      <th>2</th>\n",
              "      <td>2160</td>\n",
              "      <td>3996</td>\n",
              "      <td>0.0</td>\n",
              "      <td>0</td>\n",
              "    </tr>\n",
              "    <tr>\n",
              "      <th>3</th>\n",
              "      <td>611</td>\n",
              "      <td>4351</td>\n",
              "      <td>0.0</td>\n",
              "      <td>0</td>\n",
              "    </tr>\n",
              "    <tr>\n",
              "      <th>4</th>\n",
              "      <td>3016</td>\n",
              "      <td>3836</td>\n",
              "      <td>0.0</td>\n",
              "      <td>0</td>\n",
              "    </tr>\n",
              "  </tbody>\n",
              "</table>\n",
              "</div>\n",
              "      <button class=\"colab-df-convert\" onclick=\"convertToInteractive('df-614b1000-0773-4ee6-b4ec-750f3d012d14')\"\n",
              "              title=\"Convert this dataframe to an interactive table.\"\n",
              "              style=\"display:none;\">\n",
              "        \n",
              "  <svg xmlns=\"http://www.w3.org/2000/svg\" height=\"24px\"viewBox=\"0 0 24 24\"\n",
              "       width=\"24px\">\n",
              "    <path d=\"M0 0h24v24H0V0z\" fill=\"none\"/>\n",
              "    <path d=\"M18.56 5.44l.94 2.06.94-2.06 2.06-.94-2.06-.94-.94-2.06-.94 2.06-2.06.94zm-11 1L8.5 8.5l.94-2.06 2.06-.94-2.06-.94L8.5 2.5l-.94 2.06-2.06.94zm10 10l.94 2.06.94-2.06 2.06-.94-2.06-.94-.94-2.06-.94 2.06-2.06.94z\"/><path d=\"M17.41 7.96l-1.37-1.37c-.4-.4-.92-.59-1.43-.59-.52 0-1.04.2-1.43.59L10.3 9.45l-7.72 7.72c-.78.78-.78 2.05 0 2.83L4 21.41c.39.39.9.59 1.41.59.51 0 1.02-.2 1.41-.59l7.78-7.78 2.81-2.81c.8-.78.8-2.07 0-2.86zM5.41 20L4 18.59l7.72-7.72 1.47 1.35L5.41 20z\"/>\n",
              "  </svg>\n",
              "      </button>\n",
              "      \n",
              "  <style>\n",
              "    .colab-df-container {\n",
              "      display:flex;\n",
              "      flex-wrap:wrap;\n",
              "      gap: 12px;\n",
              "    }\n",
              "\n",
              "    .colab-df-convert {\n",
              "      background-color: #E8F0FE;\n",
              "      border: none;\n",
              "      border-radius: 50%;\n",
              "      cursor: pointer;\n",
              "      display: none;\n",
              "      fill: #1967D2;\n",
              "      height: 32px;\n",
              "      padding: 0 0 0 0;\n",
              "      width: 32px;\n",
              "    }\n",
              "\n",
              "    .colab-df-convert:hover {\n",
              "      background-color: #E2EBFA;\n",
              "      box-shadow: 0px 1px 2px rgba(60, 64, 67, 0.3), 0px 1px 3px 1px rgba(60, 64, 67, 0.15);\n",
              "      fill: #174EA6;\n",
              "    }\n",
              "\n",
              "    [theme=dark] .colab-df-convert {\n",
              "      background-color: #3B4455;\n",
              "      fill: #D2E3FC;\n",
              "    }\n",
              "\n",
              "    [theme=dark] .colab-df-convert:hover {\n",
              "      background-color: #434B5C;\n",
              "      box-shadow: 0px 1px 3px 1px rgba(0, 0, 0, 0.15);\n",
              "      filter: drop-shadow(0px 1px 2px rgba(0, 0, 0, 0.3));\n",
              "      fill: #FFFFFF;\n",
              "    }\n",
              "  </style>\n",
              "\n",
              "      <script>\n",
              "        const buttonEl =\n",
              "          document.querySelector('#df-614b1000-0773-4ee6-b4ec-750f3d012d14 button.colab-df-convert');\n",
              "        buttonEl.style.display =\n",
              "          google.colab.kernel.accessAllowed ? 'block' : 'none';\n",
              "\n",
              "        async function convertToInteractive(key) {\n",
              "          const element = document.querySelector('#df-614b1000-0773-4ee6-b4ec-750f3d012d14');\n",
              "          const dataTable =\n",
              "            await google.colab.kernel.invokeFunction('convertToInteractive',\n",
              "                                                     [key], {});\n",
              "          if (!dataTable) return;\n",
              "\n",
              "          const docLinkHtml = 'Like what you see? Visit the ' +\n",
              "            '<a target=\"_blank\" href=https://colab.research.google.com/notebooks/data_table.ipynb>data table notebook</a>'\n",
              "            + ' to learn more about interactive tables.';\n",
              "          element.innerHTML = '';\n",
              "          dataTable['output_type'] = 'display_data';\n",
              "          await google.colab.output.renderOutput(dataTable, element);\n",
              "          const docLink = document.createElement('div');\n",
              "          docLink.innerHTML = docLinkHtml;\n",
              "          element.appendChild(docLink);\n",
              "        }\n",
              "      </script>\n",
              "    </div>\n",
              "  </div>\n",
              "  "
            ]
          },
          "metadata": {},
          "execution_count": 19
        }
      ]
    },
    {
      "cell_type": "code",
      "source": [
        "# Define NeuMF model architecture\n",
        "embedding_dim = 32\n",
        "num_layers = 3\n",
        "hidden_dim = 64\n",
        "\n",
        "#input layer\n",
        "user_input = Input(shape=(1,))\n",
        "user_embedding_mlp = Flatten()(Embedding(num_users, embedding_dim)(user_input))\n",
        "user_embedding_mf = Flatten()(Embedding(num_users, embedding_dim)(user_input))\n",
        "\n",
        "item_input = Input(shape=(1,))\n",
        "item_embedding_mlp = Flatten()(Embedding(num_items, embedding_dim)(item_input))\n",
        "item_embedding_mf = Flatten()(Embedding(num_items, embedding_dim)(item_input))\n",
        "\n",
        "mlp_layers = Concatenate()([user_embedding_mlp, item_embedding_mlp])\n",
        "for i in range(num_layers):\n",
        "    mlp_layers = Dense(hidden_dim, activation='relu')(mlp_layers)\n",
        "    mlp_layers = Dropout(0.5)(mlp_layers)\n",
        "\n",
        "mf_layers = tf.keras.layers.Multiply()([user_embedding_mf, item_embedding_mf])\n",
        "# mf_layers = Concatenate()([user_embedding_mf, item_embedding_mf])\n",
        "mf_layers = Dense(hidden_dim, activation='relu')(mf_layers)\n",
        "\n",
        "rating_output = Concatenate()([mlp_layers, mf_layers])\n",
        "rating_output = Dense(1, activation='sigmoid')(rating_output)\n",
        "\n",
        "verified_purchase_output = Concatenate()([mlp_layers, mf_layers])\n",
        "verified_purchase_output = Dense(1, activation='sigmoid')(verified_purchase_output)"
      ],
      "metadata": {
        "id": "nNUwQDXFg9Fq"
      },
      "execution_count": 20,
      "outputs": []
    },
    {
      "cell_type": "code",
      "source": [
        "# Define NeuMF model\n",
        "neumf_model = Model(inputs=[user_input, item_input], outputs=[rating_output, verified_purchase_output])\n",
        "neumf_model.load_weights('neumf_model_weights.h5')\n",
        "\n",
        "neumf_model.compile(loss='binary_crossentropy', optimizer=Adam(lr=0.001)) "
      ],
      "metadata": {
        "colab": {
          "base_uri": "https://localhost:8080/"
        },
        "id": "Hj0iGZJHhBY6",
        "outputId": "1c234e62-c10d-4e33-ec23-699a2f651a86"
      },
      "execution_count": 21,
      "outputs": [
        {
          "output_type": "stream",
          "name": "stderr",
          "text": [
            "WARNING:absl:`lr` is deprecated, please use `learning_rate` instead, or use the legacy optimizer, e.g.,tf.keras.optimizers.legacy.Adam.\n"
          ]
        }
      ]
    },
    {
      "cell_type": "code",
      "source": [
        "# Train NeuMF model\n",
        "neumf_model.fit(x=[train_data['customer_id'], train_data['product_id']],\n",
        "                y=[train_data['star_rating'], train_data['verified_purchase']],\n",
        "                batch_size=64,\n",
        "                epochs=10,\n",
        "                validation_data=([test_data['customer_id'], test_data['product_id']],\n",
        "                                 [test_data['star_rating'], test_data['verified_purchase']]))\n",
        "\n",
        "neumf_model.save_weights('neumf_model_weights.h5')"
      ],
      "metadata": {
        "colab": {
          "base_uri": "https://localhost:8080/"
        },
        "id": "7OaOjCanhLGl",
        "outputId": "85fd8a09-f8dd-47e3-99c3-016adac72e9d"
      },
      "execution_count": 13,
      "outputs": [
        {
          "output_type": "stream",
          "name": "stdout",
          "text": [
            "Epoch 1/10\n",
            "510/510 [==============================] - 9s 17ms/step - loss: -25377.0059 - dense_4_loss: -25377.0059 - dense_5_loss: 7.9239e-06 - val_loss: -226607.4844 - val_dense_4_loss: -226607.4844 - val_dense_5_loss: 4.7375e-12\n",
            "Epoch 2/10\n",
            "510/510 [==============================] - 10s 19ms/step - loss: -165176.4375 - dense_4_loss: -165176.4375 - dense_5_loss: 1.5893e-09 - val_loss: -1486048.1250 - val_dense_4_loss: -1486048.1250 - val_dense_5_loss: 1.5297e-26\n",
            "Epoch 3/10\n",
            "510/510 [==============================] - 9s 18ms/step - loss: -939327.8750 - dense_4_loss: -939327.8750 - dense_5_loss: 3.6577e-17 - val_loss: -6700751.0000 - val_dense_4_loss: -6700751.0000 - val_dense_5_loss: 0.0000e+00\n",
            "Epoch 4/10\n",
            "510/510 [==============================] - 8s 16ms/step - loss: -3184394.2500 - dense_4_loss: -3184394.2500 - dense_5_loss: 9.5863e-30 - val_loss: -19071974.0000 - val_dense_4_loss: -19071974.0000 - val_dense_5_loss: 0.0000e+00\n",
            "Epoch 5/10\n",
            "510/510 [==============================] - 10s 19ms/step - loss: -8665031.0000 - dense_4_loss: -8665031.0000 - dense_5_loss: 7.1777e-37 - val_loss: -45753836.0000 - val_dense_4_loss: -45753836.0000 - val_dense_5_loss: 0.0000e+00\n",
            "Epoch 6/10\n",
            "510/510 [==============================] - 9s 18ms/step - loss: -19601694.0000 - dense_4_loss: -19601694.0000 - dense_5_loss: 0.0000e+00 - val_loss: -92905256.0000 - val_dense_4_loss: -92905256.0000 - val_dense_5_loss: 0.0000e+00\n",
            "Epoch 7/10\n",
            "510/510 [==============================] - 11s 21ms/step - loss: -39131588.0000 - dense_4_loss: -39131588.0000 - dense_5_loss: 6.1354e-30 - val_loss: -169741904.0000 - val_dense_4_loss: -169741904.0000 - val_dense_5_loss: 0.0000e+00\n",
            "Epoch 8/10\n",
            "510/510 [==============================] - 8s 16ms/step - loss: -68916432.0000 - dense_4_loss: -68916432.0000 - dense_5_loss: 1.1701e-18 - val_loss: -285773664.0000 - val_dense_4_loss: -285773664.0000 - val_dense_5_loss: 0.0000e+00\n",
            "Epoch 9/10\n",
            "510/510 [==============================] - 9s 17ms/step - loss: -114814216.0000 - dense_4_loss: -114814216.0000 - dense_5_loss: 0.0043 - val_loss: -452221152.0000 - val_dense_4_loss: -452221152.0000 - val_dense_5_loss: 0.0000e+00\n",
            "Epoch 10/10\n",
            "510/510 [==============================] - 9s 17ms/step - loss: -177282256.0000 - dense_4_loss: -177282256.0000 - dense_5_loss: 0.0000e+00 - val_loss: -680500096.0000 - val_dense_4_loss: -680500096.0000 - val_dense_5_loss: 0.0000e+00\n"
          ]
        }
      ]
    },
    {
      "cell_type": "code",
      "source": [
        "def recommend_items(user_id, num_items=10):\n",
        "    item_ids = np.arange(num_items)\n",
        "    user_ids = np.repeat(user_id, num_items)\n",
        "    rating_predictions, verified_purchase_predictions = neumf_model.predict([user_ids, item_ids])\n",
        "    item_ratings = list(zip(item_ids, rating_predictions.flatten(), verified_purchase_predictions.flatten()))\n",
        "    # item_ratings = [(item_id, rating, verified_purchase) for item_id, rating, verified_purchase in item_ratings\n",
        "    #                 if verified_purchase >= 0.5 and rating > 3.0]\n",
        "    item_ratings = [(item_id, rating, verified_purchase) for item_id, rating, verified_purchase in item_ratings]\n",
        "    item_ratings.sort(key=lambda x: x[1], reverse=True)\n",
        "    recommended_items = [(item_id, rating, verified_purchase) for item_id, rating, verified_purchase in item_ratings[:num_items]]\n",
        "    return recommended_items"
      ],
      "metadata": {
        "id": "CaU221wAhQKN"
      },
      "execution_count": 27,
      "outputs": []
    },
    {
      "cell_type": "code",
      "source": [
        "neumf_model.summary()"
      ],
      "metadata": {
        "colab": {
          "base_uri": "https://localhost:8080/"
        },
        "id": "bKEAxZGoi4Q1",
        "outputId": "3a7e59b4-12e1-4e53-f461-8a948edf4d20"
      },
      "execution_count": 24,
      "outputs": [
        {
          "output_type": "stream",
          "name": "stdout",
          "text": [
            "Model: \"model_2\"\n",
            "__________________________________________________________________________________________________\n",
            " Layer (type)                   Output Shape         Param #     Connected to                     \n",
            "==================================================================================================\n",
            " input_3 (InputLayer)           [(None, 1)]          0           []                               \n",
            "                                                                                                  \n",
            " input_4 (InputLayer)           [(None, 1)]          0           []                               \n",
            "                                                                                                  \n",
            " embedding_4 (Embedding)        (None, 1, 32)        259840      ['input_3[0][0]']                \n",
            "                                                                                                  \n",
            " embedding_6 (Embedding)        (None, 1, 32)        237664      ['input_4[0][0]']                \n",
            "                                                                                                  \n",
            " flatten_4 (Flatten)            (None, 32)           0           ['embedding_4[0][0]']            \n",
            "                                                                                                  \n",
            " flatten_6 (Flatten)            (None, 32)           0           ['embedding_6[0][0]']            \n",
            "                                                                                                  \n",
            " concatenate_3 (Concatenate)    (None, 64)           0           ['flatten_4[0][0]',              \n",
            "                                                                  'flatten_6[0][0]']              \n",
            "                                                                                                  \n",
            " dense_6 (Dense)                (None, 64)           4160        ['concatenate_3[0][0]']          \n",
            "                                                                                                  \n",
            " dropout_3 (Dropout)            (None, 64)           0           ['dense_6[0][0]']                \n",
            "                                                                                                  \n",
            " dense_7 (Dense)                (None, 64)           4160        ['dropout_3[0][0]']              \n",
            "                                                                                                  \n",
            " embedding_5 (Embedding)        (None, 1, 32)        259840      ['input_3[0][0]']                \n",
            "                                                                                                  \n",
            " embedding_7 (Embedding)        (None, 1, 32)        237664      ['input_4[0][0]']                \n",
            "                                                                                                  \n",
            " dropout_4 (Dropout)            (None, 64)           0           ['dense_7[0][0]']                \n",
            "                                                                                                  \n",
            " flatten_5 (Flatten)            (None, 32)           0           ['embedding_5[0][0]']            \n",
            "                                                                                                  \n",
            " flatten_7 (Flatten)            (None, 32)           0           ['embedding_7[0][0]']            \n",
            "                                                                                                  \n",
            " dense_8 (Dense)                (None, 64)           4160        ['dropout_4[0][0]']              \n",
            "                                                                                                  \n",
            " multiply_1 (Multiply)          (None, 32)           0           ['flatten_5[0][0]',              \n",
            "                                                                  'flatten_7[0][0]']              \n",
            "                                                                                                  \n",
            " dropout_5 (Dropout)            (None, 64)           0           ['dense_8[0][0]']                \n",
            "                                                                                                  \n",
            " dense_9 (Dense)                (None, 64)           2112        ['multiply_1[0][0]']             \n",
            "                                                                                                  \n",
            " concatenate_4 (Concatenate)    (None, 128)          0           ['dropout_5[0][0]',              \n",
            "                                                                  'dense_9[0][0]']                \n",
            "                                                                                                  \n",
            " concatenate_5 (Concatenate)    (None, 128)          0           ['dropout_5[0][0]',              \n",
            "                                                                  'dense_9[0][0]']                \n",
            "                                                                                                  \n",
            " dense_10 (Dense)               (None, 1)            129         ['concatenate_4[0][0]']          \n",
            "                                                                                                  \n",
            " dense_11 (Dense)               (None, 1)            129         ['concatenate_5[0][0]']          \n",
            "                                                                                                  \n",
            "==================================================================================================\n",
            "Total params: 1,009,858\n",
            "Trainable params: 1,009,858\n",
            "Non-trainable params: 0\n",
            "__________________________________________________________________________________________________\n"
          ]
        }
      ]
    },
    {
      "cell_type": "code",
      "source": [
        "res = recommend_items(user_id=train_data.customer_id[0])\n",
        "print(res)"
      ],
      "metadata": {
        "colab": {
          "base_uri": "https://localhost:8080/"
        },
        "id": "oCqiAfOXinT6",
        "outputId": "8db41613-37db-4c5b-bce1-fd688b6f53ab"
      },
      "execution_count": 28,
      "outputs": [
        {
          "output_type": "stream",
          "name": "stdout",
          "text": [
            "1/1 [==============================] - 0s 32ms/step\n",
            "[(0, 1.0, 0.0), (1, 1.0, 0.0), (2, 1.0, 0.0), (3, 1.0, 0.0), (4, 1.0, 0.0), (5, 1.0, 0.0), (6, 1.0, 0.0), (8, 1.0, 0.0), (9, 1.0, 0.0), (7, 0.0, 0.0)]\n"
          ]
        }
      ]
    }
  ]
}