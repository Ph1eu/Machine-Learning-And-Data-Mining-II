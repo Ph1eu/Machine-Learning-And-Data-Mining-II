{
  "nbformat": 4,
  "nbformat_minor": 0,
  "metadata": {
    "colab": {
      "provenance": []
    },
    "kernelspec": {
      "name": "python3",
      "display_name": "Python 3"
    },
    "language_info": {
      "name": "python"
    },
    "gpuClass": "standard"
  },
  "cells": [
    {
      "cell_type": "code",
      "source": [
        "# Import necessary libraries\n",
        "import numpy as np\n",
        "import pandas as pd\n",
        "import tensorflow as tf\n",
        "from tensorflow.keras.layers import Input, Embedding, Flatten, Concatenate, Dense, Dropout, Multiply\n",
        "from tensorflow.keras.models import Model\n",
        "from tensorflow.keras.optimizers import Adam\n",
        "from tensorflow.keras.utils import to_categorical\n",
        "from tensorflow.keras.regularizers import l2"
      ],
      "metadata": {
        "id": "9I5WIy0EggVY"
      },
      "execution_count": 1,
      "outputs": []
    },
    {
      "cell_type": "code",
      "source": [
        "# Load and preprocess data\n",
        "train_data = pd.read_csv('neumf_train_data.csv')\n",
        "test_data = pd.read_csv('neumf_test_data.csv')\n",
        "\n",
        "# num_users = len(train_data.customer_id.unique()) + len(test_data.customer_id.unique())\n",
        "# num_items = len(train_data.product_id.unique()) + len(test_data.product_id.unique())\n",
        "concat_df = pd.concat([train_data, test_data], axis=0)\n",
        "num_users, num_items = len(concat_df.customer_id.unique()), len(concat_df.product_id.unique())"
      ],
      "metadata": {
        "id": "k1tGscZiglUR"
      },
      "execution_count": 3,
      "outputs": []
    },
    {
      "cell_type": "code",
      "source": [
        "interactions = pd.pivot_table(concat_df, values='star_rating', index='customer_id', columns='product_id')\n",
        "\n",
        "interactions = interactions.fillna(0)\n",
        "\n",
        "print(interactions)\n",
        "# interactions = np.array(interactions)"
      ],
      "metadata": {
        "colab": {
          "base_uri": "https://localhost:8080/"
        },
        "id": "jIDsvIgnVfdE",
        "outputId": "818266eb-fa88-4ea9-cecd-9ad9f6a0388f"
      },
      "execution_count": 4,
      "outputs": [
        {
          "output_type": "stream",
          "name": "stdout",
          "text": [
            "product_id   0     1     2     3     4     5     6     7     8     9     ...  \\\n",
            "customer_id                                                              ...   \n",
            "0             0.0   0.0   0.0   0.0   0.0   0.0   0.0   0.0   0.0   0.0  ...   \n",
            "1             0.0   0.0   0.0   0.0   0.0   0.0   0.0   0.0   0.0   0.0  ...   \n",
            "2             0.0   0.0   0.0   0.0   0.0   0.0   0.0   0.0   0.0   0.0  ...   \n",
            "3             0.0   0.0   0.0   0.0   0.0   0.0   0.0   0.0   0.0   0.0  ...   \n",
            "4             0.0   0.0   0.0   0.0   0.0   0.0   0.0   0.0   0.0   0.0  ...   \n",
            "...           ...   ...   ...   ...   ...   ...   ...   ...   ...   ...  ...   \n",
            "7963          0.0   0.0   0.0   0.0   0.0   0.0   0.0   0.0   0.0   0.0  ...   \n",
            "7964          0.0   0.0   0.0   0.0   0.0   0.0   0.0   0.0   0.0   0.0  ...   \n",
            "7965          0.0   0.0   0.0   0.0   0.0   0.0   0.0   0.0   0.0   0.0  ...   \n",
            "7966          0.0   0.0   0.0   0.0   0.0   0.0   0.0   0.0   0.0   0.0  ...   \n",
            "7967          0.0   0.0   0.0   0.0   0.0   0.0   0.0   0.0   0.0   0.0  ...   \n",
            "\n",
            "product_id   5936  5937  5938  5939  5940  5941  5942  5943  5944  5945  \n",
            "customer_id                                                              \n",
            "0             0.0   0.0   0.0   0.0   0.0   0.0   0.0   0.0   0.0   0.0  \n",
            "1             0.0   0.0   0.0   0.0   0.0   0.0   0.0   0.0   0.0   0.0  \n",
            "2             0.0   0.0   0.0   0.0   0.0   0.0   0.0   0.0   0.0   0.0  \n",
            "3             0.0   0.0   0.0   0.0   0.0   0.0   0.0   0.0   0.0   0.0  \n",
            "4             0.0   0.0   0.0   0.0   0.0   0.0   0.0   0.0   0.0   0.0  \n",
            "...           ...   ...   ...   ...   ...   ...   ...   ...   ...   ...  \n",
            "7963          0.0   0.0   0.0   0.0   0.0   0.0   0.0   0.0   0.0   0.0  \n",
            "7964          0.0   0.0   0.0   0.0   0.0   0.0   0.0   0.0   0.0   0.0  \n",
            "7965          0.0   0.0   0.0   0.0   0.0   0.0   0.0   0.0   0.0   0.0  \n",
            "7966          0.0   0.0   0.0   0.0   0.0   0.0   0.0   0.0   0.0   0.0  \n",
            "7967          0.0   0.0   0.0   0.0   0.0   0.0   0.0   0.0   0.0   0.0  \n",
            "\n",
            "[7968 rows x 5946 columns]\n"
          ]
        }
      ]
    },
    {
      "cell_type": "code",
      "source": [
        "# for user_id, user_ratings in interactions.iterrows():\n",
        "#     if (user_ratings > 0).sum() > 1:\n",
        "#         print(\"User ID:\", user_id)\n",
        "#         print(user_ratings[user_ratings > 0])"
      ],
      "metadata": {
        "id": "bkRMiEHvV953"
      },
      "execution_count": null,
      "outputs": []
    },
    {
      "cell_type": "code",
      "source": [
        "print(num_users, num_items)"
      ],
      "metadata": {
        "colab": {
          "base_uri": "https://localhost:8080/"
        },
        "id": "vKlhYO-zM7WX",
        "outputId": "8f4a3deb-bfe8-4a21-f4be-e06677e77b45"
      },
      "execution_count": null,
      "outputs": [
        {
          "output_type": "stream",
          "name": "stdout",
          "text": [
            "7968 5946\n"
          ]
        }
      ]
    },
    {
      "cell_type": "code",
      "source": [
        "# full NCF model\n",
        "def get_model(num_users, num_items, latent_dim=8, dense_layers=[64, 32, 16, 8],\n",
        "              reg_layers=[0, 0, 0, 0], reg_mf=0):\n",
        "\n",
        "    # input layer\n",
        "    input_user = Input(shape=(1,), dtype='int32', name='user_input')\n",
        "    input_item = Input(shape=(1,), dtype='int32', name='item_input')\n",
        "    \n",
        "    # embedding layer\n",
        "    mf_user_embedding = Embedding(input_dim=num_users, output_dim=latent_dim,\n",
        "                        name='mf_user_embedding',\n",
        "                        embeddings_initializer='RandomNormal',\n",
        "                        embeddings_regularizer=l2(reg_mf), input_length=1)\n",
        "    mf_item_embedding = Embedding(input_dim=num_items, output_dim=latent_dim,\n",
        "                        name='mf_item_embedding',\n",
        "                        embeddings_initializer='RandomNormal',\n",
        "                        embeddings_regularizer=l2(reg_mf), input_length=1)\n",
        "    mlp_user_embedding = Embedding(input_dim=num_users, output_dim=int(dense_layers[0]/2),\n",
        "                         name='mlp_user_embedding',\n",
        "                         embeddings_initializer='RandomNormal',\n",
        "                         embeddings_regularizer=l2(reg_layers[0]), \n",
        "                         input_length=1)\n",
        "    mlp_item_embedding = Embedding(input_dim=num_items, output_dim=int(dense_layers[0]/2),\n",
        "                         name='mlp_item_embedding',\n",
        "                         embeddings_initializer='RandomNormal',\n",
        "                         embeddings_regularizer=l2(reg_layers[0]), \n",
        "                         input_length=1)\n",
        "\n",
        "    # MF latent vector\n",
        "    mf_user_latent = Flatten()(mf_user_embedding(input_user))\n",
        "    mf_item_latent = Flatten()(mf_item_embedding(input_item))\n",
        "    mf_cat_latent = Multiply()([mf_user_latent, mf_item_latent])\n",
        "\n",
        "\n",
        "    # MLP latent vector\n",
        "    mlp_user_latent = Flatten()(mlp_user_embedding(input_user))\n",
        "    mlp_item_latent = Flatten()(mlp_item_embedding(input_item))\n",
        "    mlp_cat_latent = Concatenate()([mlp_user_latent, mlp_item_latent])\n",
        "    \n",
        "    mlp_vector = mlp_cat_latent\n",
        "    \n",
        "    # build dense layer for model\n",
        "    for i in range(1,len(dense_layers)):\n",
        "        layer = Dense(dense_layers[i],\n",
        "                      activity_regularizer=l2(reg_layers[i]),\n",
        "                      activation='relu',\n",
        "                      name='layer%d' % i)\n",
        "        mlp_vector = layer(mlp_vector)\n",
        "\n",
        "    predict_layer = Concatenate()([mf_cat_latent, mlp_vector])\n",
        "\n",
        "    result = Dense(1, activation='linear',  # linear for rating, sigmoid for verified_purchase\n",
        "                   kernel_initializer='lecun_uniform',name='result')\n",
        "\n",
        "    model = Model(inputs=[input_user,input_item], outputs=result(predict_layer))\n",
        "    return model"
      ],
      "metadata": {
        "id": "iIKJiN4bqDjj"
      },
      "execution_count": 22,
      "outputs": []
    },
    {
      "cell_type": "code",
      "source": [
        "epochs = 5\n",
        "verbose = 1\n",
        "batch_size = 64\n",
        "latent_dim = 8\n",
        "dense_layers = [64, 32, 16, 8]\n",
        "reg_layers = [0, 0, 0, 0]\n",
        "reg_mf = 0\n",
        "learning_rate = 0.001\n",
        "learner = 'adam'"
      ],
      "metadata": {
        "id": "IfGkLd42rFjP"
      },
      "execution_count": 23,
      "outputs": []
    },
    {
      "cell_type": "code",
      "source": [
        "# get model\n",
        "model_rating = get_model(num_users, num_items, latent_dim, dense_layers, reg_layers, reg_mf)\n",
        "model_rating.compile(optimizer=Adam(learning_rate=learning_rate), loss='mean_squared_error', metrics=['accuracy'])\n",
        "print(model_rating.summary())"
      ],
      "metadata": {
        "colab": {
          "base_uri": "https://localhost:8080/"
        },
        "id": "gwa56rzex48o",
        "outputId": "2b2f7386-831f-4b16-c384-569a266b5155"
      },
      "execution_count": 24,
      "outputs": [
        {
          "output_type": "stream",
          "name": "stdout",
          "text": [
            "Model: \"model_1\"\n",
            "__________________________________________________________________________________________________\n",
            " Layer (type)                   Output Shape         Param #     Connected to                     \n",
            "==================================================================================================\n",
            " user_input (InputLayer)        [(None, 1)]          0           []                               \n",
            "                                                                                                  \n",
            " item_input (InputLayer)        [(None, 1)]          0           []                               \n",
            "                                                                                                  \n",
            " mlp_user_embedding (Embedding)  (None, 1, 32)       254976      ['user_input[0][0]']             \n",
            "                                                                                                  \n",
            " mlp_item_embedding (Embedding)  (None, 1, 32)       190272      ['item_input[0][0]']             \n",
            "                                                                                                  \n",
            " flatten_6 (Flatten)            (None, 32)           0           ['mlp_user_embedding[0][0]']     \n",
            "                                                                                                  \n",
            " flatten_7 (Flatten)            (None, 32)           0           ['mlp_item_embedding[0][0]']     \n",
            "                                                                                                  \n",
            " concatenate_2 (Concatenate)    (None, 64)           0           ['flatten_6[0][0]',              \n",
            "                                                                  'flatten_7[0][0]']              \n",
            "                                                                                                  \n",
            " mf_user_embedding (Embedding)  (None, 1, 8)         63744       ['user_input[0][0]']             \n",
            "                                                                                                  \n",
            " mf_item_embedding (Embedding)  (None, 1, 8)         47568       ['item_input[0][0]']             \n",
            "                                                                                                  \n",
            " layer1 (Dense)                 (None, 32)           2080        ['concatenate_2[0][0]']          \n",
            "                                                                                                  \n",
            " flatten_4 (Flatten)            (None, 8)            0           ['mf_user_embedding[0][0]']      \n",
            "                                                                                                  \n",
            " flatten_5 (Flatten)            (None, 8)            0           ['mf_item_embedding[0][0]']      \n",
            "                                                                                                  \n",
            " layer2 (Dense)                 (None, 16)           528         ['layer1[0][0]']                 \n",
            "                                                                                                  \n",
            " multiply_1 (Multiply)          (None, 8)            0           ['flatten_4[0][0]',              \n",
            "                                                                  'flatten_5[0][0]']              \n",
            "                                                                                                  \n",
            " layer3 (Dense)                 (None, 8)            136         ['layer2[0][0]']                 \n",
            "                                                                                                  \n",
            " concatenate_3 (Concatenate)    (None, 16)           0           ['multiply_1[0][0]',             \n",
            "                                                                  'layer3[0][0]']                 \n",
            "                                                                                                  \n",
            " result (Dense)                 (None, 1)            17          ['concatenate_3[0][0]']          \n",
            "                                                                                                  \n",
            "==================================================================================================\n",
            "Total params: 559,321\n",
            "Trainable params: 559,321\n",
            "Non-trainable params: 0\n",
            "__________________________________________________________________________________________________\n",
            "None\n"
          ]
        }
      ]
    },
    {
      "cell_type": "code",
      "source": [
        "model_verified_purchase = get_model(num_users, num_items, latent_dim, dense_layers, reg_layers, reg_mf)\n",
        "model_verified_purchase.compile(optimizer=Adam(learning_rate=learning_rate), loss='binary_crossentropy', metrics=['accuracy'])"
      ],
      "metadata": {
        "id": "Fc7afw0HwV9U"
      },
      "execution_count": 7,
      "outputs": []
    },
    {
      "cell_type": "code",
      "source": [
        "# Train NeuMF model\n",
        "model_rating.fit(x=[np.array(train_data.customer_id), np.array(train_data.product_id)],\n",
        "                y=np.array(train_data.star_rating), # replace train_data.verified_purchase\n",
        "                validation_data=([np.array(test_data.customer_id), np.array(test_data.product_id)],\n",
        "                          np.array(test_data.star_rating)), # replace train_data.verified_purchase\n",
        "                batch_size=batch_size,\n",
        "                epochs=5,\n",
        "                verbose=1,\n",
        "                shuffle=True)\n",
        "# neumf_model.save_weights('neumf_model_weights.h5')"
      ],
      "metadata": {
        "id": "7OaOjCanhLGl",
        "colab": {
          "base_uri": "https://localhost:8080/"
        },
        "outputId": "7b2ab272-895a-4153-dfd6-1989bf94c898"
      },
      "execution_count": 25,
      "outputs": [
        {
          "output_type": "stream",
          "name": "stdout",
          "text": [
            "Epoch 1/5\n",
            "510/510 [==============================] - 5s 6ms/step - loss: 2.9447 - accuracy: 0.1368 - val_loss: 11.4289 - val_accuracy: 0.1884\n",
            "Epoch 2/5\n",
            "510/510 [==============================] - 4s 7ms/step - loss: 2.7515 - accuracy: 0.1066 - val_loss: 11.5136 - val_accuracy: 0.1779\n",
            "Epoch 3/5\n",
            "510/510 [==============================] - 4s 9ms/step - loss: 2.3713 - accuracy: 0.3209 - val_loss: 11.7258 - val_accuracy: 0.1221\n",
            "Epoch 4/5\n",
            "510/510 [==============================] - 3s 6ms/step - loss: 1.3194 - accuracy: 0.5825 - val_loss: 11.9532 - val_accuracy: 0.0860\n",
            "Epoch 5/5\n",
            "510/510 [==============================] - 3s 5ms/step - loss: 0.3693 - accuracy: 0.7422 - val_loss: 11.8873 - val_accuracy: 0.0802\n"
          ]
        },
        {
          "output_type": "execute_result",
          "data": {
            "text/plain": [
              "<keras.callbacks.History at 0x7f2a83e5ab50>"
            ]
          },
          "metadata": {},
          "execution_count": 25
        }
      ]
    },
    {
      "cell_type": "code",
      "source": [
        "model = model_rating"
      ],
      "metadata": {
        "id": "cvmzFZkYwe6x"
      },
      "execution_count": 28,
      "outputs": []
    },
    {
      "cell_type": "code",
      "source": [
        "predictions = model.predict([np.array(train_data.customer_id), np.array(train_data.product_id)])\n",
        "for i in range(0,30):\n",
        "  print(f\"riu: {train_data.star_rating.iloc[i]}, predicted: {(predictions[i][0])}\")"
      ],
      "metadata": {
        "colab": {
          "base_uri": "https://localhost:8080/"
        },
        "id": "7snX8h826mFk",
        "outputId": "dec4e6ce-d8d7-471d-bf5f-168b9f3a6911"
      },
      "execution_count": 43,
      "outputs": [
        {
          "output_type": "stream",
          "name": "stdout",
          "text": [
            "1020/1020 [==============================] - 1s 1ms/step\n",
            "riu: 1.0, predicted: 0.5053096413612366\n",
            "riu: 0.0, predicted: 0.27102208137512207\n",
            "riu: 0.0, predicted: 0.10045319050550461\n",
            "riu: 0.0, predicted: -0.045852310955524445\n",
            "riu: 0.0, predicted: 0.12545758485794067\n",
            "riu: 0.0, predicted: 0.18399500846862793\n",
            "riu: 0.0, predicted: 0.13161689043045044\n",
            "riu: 5.0, predicted: 5.182096004486084\n",
            "riu: 4.0, predicted: 4.151077747344971\n",
            "riu: 0.0, predicted: 0.13917802274227142\n",
            "riu: 0.0, predicted: 0.23846611380577087\n",
            "riu: 0.0, predicted: 0.10095985978841782\n",
            "riu: 0.0, predicted: -0.2475355565547943\n",
            "riu: 0.0, predicted: 0.10459420830011368\n",
            "riu: 0.0, predicted: -0.15142807364463806\n",
            "riu: 0.0, predicted: 0.05604039132595062\n",
            "riu: 0.0, predicted: 0.05061178654432297\n",
            "riu: 5.0, predicted: 4.196002006530762\n",
            "riu: 3.0, predicted: 0.5994928479194641\n",
            "riu: 5.0, predicted: 5.727824687957764\n",
            "riu: 0.0, predicted: -0.19711759686470032\n",
            "riu: 5.0, predicted: 2.114281177520752\n",
            "riu: 0.0, predicted: -0.0212671160697937\n",
            "riu: 5.0, predicted: 5.0653839111328125\n",
            "riu: 0.0, predicted: 0.002638883888721466\n",
            "riu: 0.0, predicted: -0.023341603577136993\n",
            "riu: 1.0, predicted: 0.13377314805984497\n",
            "riu: 0.0, predicted: -0.17991802096366882\n",
            "riu: 0.0, predicted: -0.38667455315589905\n",
            "riu: 0.0, predicted: -0.09480512887239456\n"
          ]
        }
      ]
    },
    {
      "cell_type": "code",
      "source": [
        "def recommend_items(user_id, items=10):\n",
        "    item_ids = np.arange(items)\n",
        "    user_ids = np.repeat(user_id, items)\n",
        "    rating_predictions = model.predict([user_ids, item_ids])\n",
        "    item_ratings = list(zip(item_ids, rating_predictions.flatten()))\n",
        "    # item_ratings = [(item_id, rating, verified_purchase) for item_id, rating, verified_purchase in item_ratings\n",
        "    #                 if verified_purchase >= 0.5 and rating > 3.0]\n",
        "    item_ratings = [(item_id, rating) for item_id, rating in item_ratings]\n",
        "    item_ratings.sort(key=lambda x: x[1], reverse=True)\n",
        "    recommended_items = [(item_id, rating) for item_id, rating in item_ratings[:num_items]]\n",
        "    return recommended_items"
      ],
      "metadata": {
        "id": "CaU221wAhQKN"
      },
      "execution_count": 11,
      "outputs": []
    },
    {
      "cell_type": "code",
      "source": [
        "res = recommend_items(user_id=train_data.customer_id[0])\n",
        "print(res)"
      ],
      "metadata": {
        "colab": {
          "base_uri": "https://localhost:8080/"
        },
        "id": "oCqiAfOXinT6",
        "outputId": "8525b053-a598-4ad0-b51e-7a59337faf5f"
      },
      "execution_count": null,
      "outputs": [
        {
          "output_type": "stream",
          "name": "stdout",
          "text": [
            "1/1 [==============================] - 0s 29ms/step\n",
            "[(3, 1.2953409), (4, 1.0114655), (6, 0.9815404), (8, 0.9178495), (0, 0.4740227), (1, 0.4111194), (7, 0.40578693), (5, 0.23016101), (2, 0.15012874), (9, -0.0016505271)]\n"
          ]
        }
      ]
    },
    {
      "cell_type": "markdown",
      "source": [
        "Recommendation"
      ],
      "metadata": {
        "id": "qGOFYYFv1sP2"
      }
    },
    {
      "cell_type": "code",
      "source": [
        "#user id to recommend the products to\n",
        "desired_user_id = train_data.customer_id[0]"
      ],
      "metadata": {
        "id": "FCXW03fp2UMG"
      },
      "execution_count": 30,
      "outputs": []
    },
    {
      "cell_type": "code",
      "source": [
        "from sklearn.cluster import KMeans\n",
        "mlp_user_embedding_weights = (next(iter(filter(lambda x: x.name == 'mlp_user_embedding', model.layers))).get_weights())\n",
        "\n",
        "# get the latent embedding for your desired user\n",
        "user_latent_matrix = mlp_user_embedding_weights[0]\n",
        "\n",
        "one_user_vector = user_latent_matrix[desired_user_id,:]\n",
        "\n",
        "one_user_vector = np.reshape(one_user_vector, (1,32))\n",
        "print(user_latent_matrix)"
      ],
      "metadata": {
        "colab": {
          "base_uri": "https://localhost:8080/"
        },
        "id": "gDdEiXGtr1rH",
        "outputId": "c1d5634d-49c4-41f1-c5a0-f8a744536ad1"
      },
      "execution_count": 31,
      "outputs": [
        {
          "output_type": "stream",
          "name": "stdout",
          "text": [
            "[[-0.04496388 -0.04672782 -0.11895617 ...  0.039933   -0.00231761\n",
            "  -0.0595164 ]\n",
            " [ 0.09821941  0.06897451 -0.02122093 ... -0.0675341  -0.0385053\n",
            "  -0.13302925]\n",
            " [-0.03060061 -0.01012711  0.09263764 ...  0.02950649  0.06810649\n",
            "  -0.03205543]\n",
            " ...\n",
            " [ 0.04160957 -0.03649679  0.03119293 ... -0.04535455 -0.02716426\n",
            "   0.02346848]\n",
            " [-0.00606452  0.00661458 -0.10501533 ...  0.12352349  0.06097689\n",
            "   0.05976881]\n",
            " [ 0.05895165 -0.03409892 -0.06831917 ...  0.01020957 -0.06652234\n",
            "   0.04239896]]\n"
          ]
        }
      ]
    },
    {
      "cell_type": "code",
      "source": [
        "#kmeans \n",
        "kmeans = KMeans(n_clusters=100, random_state=0, n_init='auto', verbose=0).fit(user_latent_matrix)"
      ],
      "metadata": {
        "id": "FsF32SgMtmkz"
      },
      "execution_count": 32,
      "outputs": []
    },
    {
      "cell_type": "code",
      "source": [
        "desired_user_label = kmeans.predict(one_user_vector)\n",
        "print(desired_user_label)"
      ],
      "metadata": {
        "colab": {
          "base_uri": "https://localhost:8080/"
        },
        "id": "5gNIV4WctyeI",
        "outputId": "186794b8-eeec-44fd-93e5-5df0af835578"
      },
      "execution_count": 33,
      "outputs": [
        {
          "output_type": "stream",
          "name": "stdout",
          "text": [
            "[18]\n"
          ]
        }
      ]
    },
    {
      "cell_type": "code",
      "source": [
        "user_label = kmeans.labels_ #no of user_ids\n",
        "print(user_label)\n",
        "neighbors = []\n",
        "\n",
        "#get user_ids in same cluster\n",
        "for user_id, user_label in enumerate(user_label):\n",
        "    if user_label == desired_user_label:\n",
        "        neighbors.append(user_id)\n",
        "print('Found {0} neighbor users.'.format(len(neighbors))) "
      ],
      "metadata": {
        "colab": {
          "base_uri": "https://localhost:8080/"
        },
        "id": "VVuRHcjqt4hw",
        "outputId": "5e15f630-9d06-4f0f-ea40-6886aa5a54ab"
      },
      "execution_count": 34,
      "outputs": [
        {
          "output_type": "stream",
          "name": "stdout",
          "text": [
            "[37  0 21 ... 39 13 55]\n",
            "Found 83 neighbor users.\n"
          ]
        }
      ]
    },
    {
      "cell_type": "code",
      "source": [
        "# product_ids = train_data.loc[train_data['customer_id'].isin(neighbors), 'product_id'].values\n",
        "product_ids = []\n",
        "\n",
        "for user_id in neighbors:\n",
        "    product_ids += list(train_data[train_data['customer_id'] == int(user_id)]['product_id'])\n",
        "print('Found {0} neighbor items from these users.'.format(len(product_ids))) \n",
        "print(product_ids)"
      ],
      "metadata": {
        "colab": {
          "base_uri": "https://localhost:8080/"
        },
        "id": "NFkIT2LYu5fb",
        "outputId": "7ad53016-e197-4860-d2ef-68e5c618bcf8"
      },
      "execution_count": 35,
      "outputs": [
        {
          "output_type": "stream",
          "name": "stdout",
          "text": [
            "Found 416 neighbor items from these users.\n",
            "[3278, 993, 5930, 1422, 3430, 1159, 4843, 5410, 5515, 5770, 1598, 684, 3170, 5851, 588, 254, 4455, 2292, 3839, 725, 278, 4170, 4500, 1743, 60, 1968, 5679, 5160, 4361, 2513, 2937, 2580, 2000, 1047, 4865, 5485, 2038, 90, 4510, 1871, 440, 15, 4014, 5448, 4165, 2067, 1097, 1056, 2083, 5411, 4577, 2836, 3336, 5158, 3145, 4499, 1243, 1955, 709, 1089, 3222, 4060, 54, 5, 4453, 2374, 4247, 4047, 4225, 5078, 5553, 5818, 2945, 1594, 659, 4888, 1812, 3980, 1521, 5513, 2521, 4639, 1521, 1320, 1407, 4091, 2185, 2584, 150, 354, 685, 5516, 2880, 4414, 2168, 3917, 4373, 2930, 2434, 2249, 4414, 5227, 3719, 1079, 2976, 1232, 3761, 3903, 3635, 4995, 4844, 450, 373, 54, 3775, 1803, 1469, 2260, 1909, 2956, 4429, 2208, 5437, 3794, 1132, 2863, 2623, 1981, 4619, 2071, 2819, 1909, 4898, 5292, 5931, 3154, 4378, 920, 3675, 1108, 4459, 4699, 4317, 133, 3171, 4601, 3014, 1587, 1224, 2871, 2561, 1183, 4240, 5306, 5748, 297, 723, 3508, 1478, 4898, 1700, 3720, 1902, 2870, 1524, 4021, 735, 3116, 1217, 3278, 1053, 59, 5734, 4068, 5452, 5927, 1702, 3141, 2099, 1935, 1990, 1406, 4892, 2113, 3153, 530, 1880, 4882, 3771, 3102, 2965, 1521, 2861, 405, 1283, 3530, 3312, 2050, 4682, 3708, 485, 131, 995, 4126, 4194, 2668, 4945, 2878, 1675, 4993, 3427, 1445, 3522, 2941, 2944, 4590, 5608, 2779, 2428, 3869, 3934, 361, 5906, 4222, 5354, 4999, 1787, 3670, 5258, 4126, 109, 854, 590, 237, 1846, 3265, 1753, 2829, 3530, 2858, 2239, 1760, 4401, 2141, 2214, 1815, 133, 3471, 3685, 5485, 783, 4342, 1539, 5125, 4253, 171, 465, 989, 953, 1944, 3457, 3485, 2885, 2787, 2253, 936, 2461, 978, 5077, 5582, 58, 645, 3331, 4707, 4816, 1295, 4193, 2810, 791, 1720, 5491, 3457, 397, 3280, 133, 5220, 5602, 2067, 2318, 2727, 3955, 1561, 3847, 4082, 980, 5121, 1439, 64, 3381, 814, 2058, 3192, 118, 664, 4517, 4506, 5823, 3173, 1057, 2182, 767, 5106, 2775, 2709, 3913, 5589, 115, 5639, 2436, 4371, 1097, 585, 3621, 3140, 87, 5112, 3571, 5085, 4228, 5780, 5637, 992, 2774, 3074, 4431, 4689, 5536, 76, 876, 455, 5312, 4052, 4981, 1796, 5728, 4151, 110, 467, 4625, 5716, 2764, 5642, 3221, 1667, 342, 5397, 173, 3576, 1666, 5041, 1750, 3431, 3439, 4760, 5293, 2124, 1300, 3852, 2987, 2247, 4111, 4522, 4495, 2181, 8, 690, 2323, 2603, 4925, 79, 4934, 4425, 2890, 4934, 4075, 5394, 1067, 797, 991, 5386, 535, 608, 2052, 1729, 3804, 3379, 4018, 1770, 2724, 856, 5545, 5569, 953, 2960, 4848, 2829, 954, 5857, 4285, 3980, 3780, 1454, 5807, 198, 1969, 5007]\n"
          ]
        }
      ]
    },
    {
      "cell_type": "code",
      "source": [
        "users = np.full(len(product_ids), desired_user_id, dtype='int32')\n",
        "items = np.array(product_ids, dtype='int32')\n",
        "\n",
        "# print('\\nRanking most likely tracks using the NeuMF model...')\n",
        "# # and predict tracks for my user\n",
        "predictions = model.predict([users,items],batch_size=100, verbose=0) \n",
        "predictions = predictions.tolist()\n",
        "predictions = [i[0] for i in predictions]\n",
        "print(predictions)"
      ],
      "metadata": {
        "colab": {
          "base_uri": "https://localhost:8080/"
        },
        "id": "A6p49GJ6zqz_",
        "outputId": "9ce29ed9-ac5f-4c33-a36a-b70cbb17a595"
      },
      "execution_count": 36,
      "outputs": [
        {
          "output_type": "stream",
          "name": "stdout",
          "text": [
            "[0.11051443964242935, 0.27727577090263367, 0.4470125436782837, -0.0019590407609939575, 0.28483012318611145, 0.2221749722957611, 0.21751701831817627, 0.4621361792087555, -0.04736141115427017, -0.1871953308582306, 1.7985248565673828, -0.15864437818527222, 0.10821535438299179, 0.5753039717674255, 1.093839168548584, -0.07587369531393051, 0.28131598234176636, 0.2470594346523285, 0.08769510686397552, -0.25480085611343384, 0.14234985411167145, 0.4366738498210907, 0.4154540002346039, -0.04194723814725876, 0.5082292556762695, 0.25975584983825684, 0.37876734137535095, 0.19457592070102692, 0.601924479007721, 0.5285078883171082, 0.1464928388595581, -0.3355347812175751, 0.30830153822898865, -0.06093849986791611, 0.22512167692184448, 0.4985555410385132, 0.23965159058570862, 0.2499372959136963, 0.14586573839187622, -0.0022869110107421875, 0.25305020809173584, 0.15454377233982086, -0.07892545312643051, 0.13413426280021667, 0.5203214883804321, 1.1663469076156616, 0.4737184941768646, -0.07472526282072067, 0.14550846815109253, -0.10174738615751266, 0.08818424493074417, 0.22855892777442932, -0.09611289948225021, 0.46033337712287903, 2.7984213829040527, 0.37065380811691284, 1.7132560014724731, 1.6466017961502075, 0.2147294133901596, 0.11477985978126526, 0.2866433560848236, 0.09690351039171219, 0.4039119780063629, 0.39885246753692627, 0.25530287623405457, 0.8648272156715393, 0.3158451318740845, 0.37108057737350464, 0.4222530424594879, 0.33615779876708984, 0.16508638858795166, -0.025838695466518402, 1.0498484373092651, 0.2515907883644104, 0.052163995802402496, 0.46810993552207947, 0.40008723735809326, 0.4594098925590515, 0.3975440561771393, 0.22368651628494263, 0.038975201547145844, 0.6004628539085388, 0.3975440561771393, 0.4772227108478546, -0.045694030821323395, 0.4647008776664734, -0.07741283625364304, 0.4184815287590027, 0.10558201372623444, 0.3189263343811035, 2.2837138175964355, 0.3680201768875122, 0.15312278270721436, 3.6958694458007812, 0.531374454498291, 0.07451773434877396, 0.2662968933582306, 0.4868175983428955, 0.023654907941818237, 0.7187394499778748, 3.6958694458007812, 0.00681547075510025, 0.8067231774330139, 4.000418186187744, -0.0926261767745018, 0.5888087153434753, 0.32642385363578796, 0.4224853813648224, 0.7210046052932739, 0.5070200562477112, 0.19169077277183533, 0.019888363778591156, 0.44577136635780334, 0.4039119780063629, 0.6441383957862854, -0.0487762913107872, 0.9751166701316833, 0.11750839650630951, 1.4278578758239746, 1.157583236694336, -0.24075421690940857, 0.1677030324935913, 1.3917399644851685, 0.3031015396118164, -0.09748943895101547, 0.3228757083415985, 1.2614082098007202, 0.14005857706069946, 0.22673296928405762, 0.2576574683189392, 0.1886187195777893, 1.4278578758239746, 0.0547933503985405, 0.3443557322025299, 0.6572263836860657, 0.127109095454216, -0.24450692534446716, 0.46502235531806946, 0.05407681316137314, 1.4425325393676758, 0.0455622598528862, 0.29311931133270264, 0.6385575532913208, 0.09234492480754852, 0.6829438805580139, 0.7728867530822754, 0.3267706334590912, -0.3544096052646637, 0.3765256404876709, 0.3150997459888458, 2.6963894367218018, 2.236332893371582, 0.2889760434627533, 0.6444495916366577, 0.5333188772201538, -0.2779165506362915, 0.08571824431419373, 0.36302757263183594, 0.5602362751960754, 0.0547933503985405, 0.416663259267807, 0.37313225865364075, 0.25742846727371216, 2.466427803039551, 0.2146216332912445, 0.19595564901828766, 0.2174651324748993, 0.039993010461330414, 0.46633008122444153, 0.11051443964242935, 0.03143917769193649, 0.01762978732585907, 0.20662066340446472, 0.5447208881378174, 0.5686066150665283, -0.09284351021051407, 0.5084824562072754, 0.518308699131012, 0.11599981039762497, 1.841414213180542, 0.12550139427185059, -0.08635137230157852, 0.7426654696464539, 0.3142375946044922, 0.3164198696613312, 0.5959596037864685, 1.3380558490753174, 0.050473667681217194, 0.11765804141759872, -0.11637227982282639, 0.25271812081336975, 0.3975440561771393, 0.5755552053451538, 0.08543850481510162, 0.33432650566101074, 0.2203691601753235, 0.08920241892337799, 0.0675785169005394, 0.5325843691825867, 0.35559800267219543, 0.030800938606262207, -0.18261277675628662, -0.05861126631498337, 0.43311139941215515, 0.15166358649730682, 0.03252357989549637, 0.0047750696539878845, 0.42444220185279846, 0.7852118015289307, 0.39155057072639465, 0.11167383939027786, 0.07362388074398041, 0.9860205054283142, 1.1689974069595337, 0.49487361311912537, 0.24123448133468628, 0.6994978189468384, 0.15385109186172485, 0.3959810137748718, 0.538864254951477, 0.36120274662971497, 0.5113064050674438, -0.03237519413232803, 0.410979688167572, -0.07722391933202744, 0.5204407572746277, 1.1527924537658691, 0.2504443824291229, 0.3589033782482147, 0.43311139941215515, 0.514723539352417, 0.45382529497146606, 0.4849015176296234, 0.2709600031375885, 0.2142653465270996, 1.9027472734451294, 0.5373349189758301, -0.03389952331781387, 0.2203691601753235, -0.06709698587656021, 0.6886900067329407, -0.10459660738706589, 0.3042931854724884, 0.5876701474189758, 0.806759238243103, 0.3919237554073334, 0.09234492480754852, -0.03935331851243973, 0.8962079286575317, 0.4985555410385132, 0.15578299760818481, 0.43012019991874695, 0.0017218813300132751, 0.2615255117416382, 0.34569263458251953, 1.9880388975143433, 0.5141624212265015, 0.2985518276691437, 0.6423632502555847, 1.4619672298431396, 0.20307061076164246, 0.012363247573375702, 0.008364386856555939, 0.12869364023208618, 0.5981295108795166, 0.5752750039100647, 3.444918632507324, 0.23089373111724854, 0.4526195824146271, 0.14362192153930664, -0.06969302147626877, 0.2973631024360657, 0.20072507858276367, -0.01610928773880005, 1.1404343843460083, 0.5186964273452759, 1.1574100255966187, -0.23133119940757751, 1.6377424001693726, 0.4542335271835327, 0.17452409863471985, 0.20307061076164246, 0.07129362225532532, 0.5305789113044739, 0.09234492480754852, 0.2777031660079956, 0.5430957674980164, 1.1663469076156616, 0.5374096632003784, 0.4177291691303253, 0.07499794661998749, 0.6693253517150879, 0.7740228772163391, 0.2003992795944214, 0.9575374722480774, -0.06472516804933548, 0.14391495287418365, 0.4324560761451721, -0.07117521017789841, 0.5941379070281982, -0.2991567552089691, 0.417911559343338, 0.880728006362915, 0.1752292364835739, 0.2596858739852905, -0.029824428260326385, 0.7369949221611023, 0.781348466873169, 0.3322429955005646, 0.5865821838378906, 0.21237584948539734, 0.4924554228782654, 0.1817663311958313, 0.23343738913536072, 0.021489128470420837, 0.13153724372386932, 0.13207706809043884, 1.6066945791244507, 1.1536130905151367, 0.8696642518043518, 0.4737184941768646, 0.8034202456474304, 1.5340687036514282, 0.2630443572998047, -0.14107266068458557, 1.6950587034225464, 0.750077486038208, 0.2270127534866333, 0.5523340106010437, -0.07179876416921616, 0.36439746618270874, -0.03270816057920456, 0.3956793248653412, 0.5752331614494324, 0.40331441164016724, 0.02071407437324524, 0.4343840777873993, 0.5723778009414673, 0.27548813819885254, 0.6351433396339417, -0.1771993637084961, 0.5053096413612366, -0.08486565202474594, -0.041121892631053925, 0.044195570051670074, -0.13021308183670044, -0.0881510004401207, -0.09592019766569138, 0.1267206370830536, -0.06651213020086288, 0.5445497035980225, 0.2697599530220032, -0.05948328226804733, 0.3836905360221863, 0.0063683390617370605, 0.21553045511245728, 0.47768348455429077, 0.579798698425293, 0.2627648413181305, -0.04713123291730881, -0.1650526225566864, 0.10445474833250046, 0.331828236579895, 1.316470742225647, 0.07910025864839554, -0.20258715748786926, 0.40885594487190247, 0.19889353215694427, 0.6488800048828125, 0.6254012584686279, 0.018841862678527832, 0.21012696623802185, 0.25450196862220764, 0.5207640528678894, -0.033721648156642914, 2.1184182167053223, 0.21424740552902222, 0.20043280720710754, 0.4359285831451416, 0.34857603907585144, 0.596947431564331, 0.2697448432445526, 0.5898107290267944, 0.596947431564331, 0.21141302585601807, 0.38419708609580994, 0.5820702910423279, 0.21536165475845337, 0.2976975739002228, 0.25835758447647095, 1.4821239709854126, 0.3549765646457672, 0.3813023269176483, 0.5363155007362366, 0.06176864728331566, 0.3146161139011383, 0.09276691824197769, -0.03761228173971176, 0.4472868740558624, -0.037469618022441864, 0.631793200969696, 0.526443600654602, 0.6423632502555847, 0.3982487916946411, 1.6203898191452026, -0.03389952331781387, 0.08002171665430069, 0.7555345296859741, 0.9127689003944397, 0.4594098925590515, 0.7680829763412476, 0.2553892135620117, 0.07386481761932373, 0.4129772186279297, 0.054084278643131256, 1.2722479104995728]\n"
          ]
        }
      ]
    },
    {
      "cell_type": "code",
      "source": [
        "results_df = pd.DataFrame({'product_id': product_ids, 'star_rating': predictions})\n",
        "results_df = results_df.sort_values(by='star_rating', ascending=False)\n",
        "#display recommended products in rating order\n",
        "results_df"
      ],
      "metadata": {
        "colab": {
          "base_uri": "https://localhost:8080/",
          "height": 423
        },
        "id": "8weR5GWz0oER",
        "outputId": "ee661b19-f345-4ce3-a5c4-7e5fee88d59f"
      },
      "execution_count": 39,
      "outputs": [
        {
          "output_type": "execute_result",
          "data": {
            "text/plain": [
              "     product_id  star_rating\n",
              "103        1079     4.000418\n",
              "93         4414     3.695869\n",
              "100        4414     3.695869\n",
              "266        2461     3.444919\n",
              "54         3145     2.798421\n",
              "..          ...          ...\n",
              "19          725    -0.254801\n",
              "155         297    -0.277917\n",
              "300        2058    -0.299157\n",
              "31         2580    -0.335535\n",
              "147        1587    -0.354410\n",
              "\n",
              "[416 rows x 2 columns]"
            ],
            "text/html": [
              "\n",
              "  <div id=\"df-f7e4591d-cf0c-452b-a1ee-a599ae90f5da\">\n",
              "    <div class=\"colab-df-container\">\n",
              "      <div>\n",
              "<style scoped>\n",
              "    .dataframe tbody tr th:only-of-type {\n",
              "        vertical-align: middle;\n",
              "    }\n",
              "\n",
              "    .dataframe tbody tr th {\n",
              "        vertical-align: top;\n",
              "    }\n",
              "\n",
              "    .dataframe thead th {\n",
              "        text-align: right;\n",
              "    }\n",
              "</style>\n",
              "<table border=\"1\" class=\"dataframe\">\n",
              "  <thead>\n",
              "    <tr style=\"text-align: right;\">\n",
              "      <th></th>\n",
              "      <th>product_id</th>\n",
              "      <th>star_rating</th>\n",
              "    </tr>\n",
              "  </thead>\n",
              "  <tbody>\n",
              "    <tr>\n",
              "      <th>103</th>\n",
              "      <td>1079</td>\n",
              "      <td>4.000418</td>\n",
              "    </tr>\n",
              "    <tr>\n",
              "      <th>93</th>\n",
              "      <td>4414</td>\n",
              "      <td>3.695869</td>\n",
              "    </tr>\n",
              "    <tr>\n",
              "      <th>100</th>\n",
              "      <td>4414</td>\n",
              "      <td>3.695869</td>\n",
              "    </tr>\n",
              "    <tr>\n",
              "      <th>266</th>\n",
              "      <td>2461</td>\n",
              "      <td>3.444919</td>\n",
              "    </tr>\n",
              "    <tr>\n",
              "      <th>54</th>\n",
              "      <td>3145</td>\n",
              "      <td>2.798421</td>\n",
              "    </tr>\n",
              "    <tr>\n",
              "      <th>...</th>\n",
              "      <td>...</td>\n",
              "      <td>...</td>\n",
              "    </tr>\n",
              "    <tr>\n",
              "      <th>19</th>\n",
              "      <td>725</td>\n",
              "      <td>-0.254801</td>\n",
              "    </tr>\n",
              "    <tr>\n",
              "      <th>155</th>\n",
              "      <td>297</td>\n",
              "      <td>-0.277917</td>\n",
              "    </tr>\n",
              "    <tr>\n",
              "      <th>300</th>\n",
              "      <td>2058</td>\n",
              "      <td>-0.299157</td>\n",
              "    </tr>\n",
              "    <tr>\n",
              "      <th>31</th>\n",
              "      <td>2580</td>\n",
              "      <td>-0.335535</td>\n",
              "    </tr>\n",
              "    <tr>\n",
              "      <th>147</th>\n",
              "      <td>1587</td>\n",
              "      <td>-0.354410</td>\n",
              "    </tr>\n",
              "  </tbody>\n",
              "</table>\n",
              "<p>416 rows × 2 columns</p>\n",
              "</div>\n",
              "      <button class=\"colab-df-convert\" onclick=\"convertToInteractive('df-f7e4591d-cf0c-452b-a1ee-a599ae90f5da')\"\n",
              "              title=\"Convert this dataframe to an interactive table.\"\n",
              "              style=\"display:none;\">\n",
              "        \n",
              "  <svg xmlns=\"http://www.w3.org/2000/svg\" height=\"24px\"viewBox=\"0 0 24 24\"\n",
              "       width=\"24px\">\n",
              "    <path d=\"M0 0h24v24H0V0z\" fill=\"none\"/>\n",
              "    <path d=\"M18.56 5.44l.94 2.06.94-2.06 2.06-.94-2.06-.94-.94-2.06-.94 2.06-2.06.94zm-11 1L8.5 8.5l.94-2.06 2.06-.94-2.06-.94L8.5 2.5l-.94 2.06-2.06.94zm10 10l.94 2.06.94-2.06 2.06-.94-2.06-.94-.94-2.06-.94 2.06-2.06.94z\"/><path d=\"M17.41 7.96l-1.37-1.37c-.4-.4-.92-.59-1.43-.59-.52 0-1.04.2-1.43.59L10.3 9.45l-7.72 7.72c-.78.78-.78 2.05 0 2.83L4 21.41c.39.39.9.59 1.41.59.51 0 1.02-.2 1.41-.59l7.78-7.78 2.81-2.81c.8-.78.8-2.07 0-2.86zM5.41 20L4 18.59l7.72-7.72 1.47 1.35L5.41 20z\"/>\n",
              "  </svg>\n",
              "      </button>\n",
              "      \n",
              "  <style>\n",
              "    .colab-df-container {\n",
              "      display:flex;\n",
              "      flex-wrap:wrap;\n",
              "      gap: 12px;\n",
              "    }\n",
              "\n",
              "    .colab-df-convert {\n",
              "      background-color: #E8F0FE;\n",
              "      border: none;\n",
              "      border-radius: 50%;\n",
              "      cursor: pointer;\n",
              "      display: none;\n",
              "      fill: #1967D2;\n",
              "      height: 32px;\n",
              "      padding: 0 0 0 0;\n",
              "      width: 32px;\n",
              "    }\n",
              "\n",
              "    .colab-df-convert:hover {\n",
              "      background-color: #E2EBFA;\n",
              "      box-shadow: 0px 1px 2px rgba(60, 64, 67, 0.3), 0px 1px 3px 1px rgba(60, 64, 67, 0.15);\n",
              "      fill: #174EA6;\n",
              "    }\n",
              "\n",
              "    [theme=dark] .colab-df-convert {\n",
              "      background-color: #3B4455;\n",
              "      fill: #D2E3FC;\n",
              "    }\n",
              "\n",
              "    [theme=dark] .colab-df-convert:hover {\n",
              "      background-color: #434B5C;\n",
              "      box-shadow: 0px 1px 3px 1px rgba(0, 0, 0, 0.15);\n",
              "      filter: drop-shadow(0px 1px 2px rgba(0, 0, 0, 0.3));\n",
              "      fill: #FFFFFF;\n",
              "    }\n",
              "  </style>\n",
              "\n",
              "      <script>\n",
              "        const buttonEl =\n",
              "          document.querySelector('#df-f7e4591d-cf0c-452b-a1ee-a599ae90f5da button.colab-df-convert');\n",
              "        buttonEl.style.display =\n",
              "          google.colab.kernel.accessAllowed ? 'block' : 'none';\n",
              "\n",
              "        async function convertToInteractive(key) {\n",
              "          const element = document.querySelector('#df-f7e4591d-cf0c-452b-a1ee-a599ae90f5da');\n",
              "          const dataTable =\n",
              "            await google.colab.kernel.invokeFunction('convertToInteractive',\n",
              "                                                     [key], {});\n",
              "          if (!dataTable) return;\n",
              "\n",
              "          const docLinkHtml = 'Like what you see? Visit the ' +\n",
              "            '<a target=\"_blank\" href=https://colab.research.google.com/notebooks/data_table.ipynb>data table notebook</a>'\n",
              "            + ' to learn more about interactive tables.';\n",
              "          element.innerHTML = '';\n",
              "          dataTable['output_type'] = 'display_data';\n",
              "          await google.colab.output.renderOutput(dataTable, element);\n",
              "          const docLink = document.createElement('div');\n",
              "          docLink.innerHTML = docLinkHtml;\n",
              "          element.appendChild(docLink);\n",
              "        }\n",
              "      </script>\n",
              "    </div>\n",
              "  </div>\n",
              "  "
            ]
          },
          "metadata": {},
          "execution_count": 39
        }
      ]
    }
  ]
}